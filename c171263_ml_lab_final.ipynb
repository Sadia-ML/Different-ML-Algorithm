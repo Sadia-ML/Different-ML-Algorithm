{
 "cells": [
  {
   "cell_type": "markdown",
   "metadata": {},
   "source": [
    "<h1>decision tree</h1>"
   ]
  },
  {
   "cell_type": "code",
   "execution_count": 7,
   "metadata": {},
   "outputs": [],
   "source": [
    "import numpy as np\n",
    "import pandas as pd"
   ]
  },
  {
   "cell_type": "code",
   "execution_count": 8,
   "metadata": {},
   "outputs": [],
   "source": [
    "dataset=pd.read_csv('AllElectronic.csv')"
   ]
  },
  {
   "cell_type": "code",
   "execution_count": 4,
   "metadata": {},
   "outputs": [
    {
     "name": "stdout",
     "output_type": "stream",
     "text": [
      "       age  income student credit_rating buys_computer  Unnamed: 5\n",
      "0    Youth    high      no          fair            no         NaN\n",
      "1    Youth    high      no     excellent            no         NaN\n",
      "2   middle    high      no          fair           yes         NaN\n",
      "3   senior  medium      no          fair           yes         NaN\n",
      "4   senior     low     yes          fair           yes         NaN\n",
      "5   senior     low     yes     excellent            no         NaN\n",
      "6   middle     low     yes     excellent           yes         NaN\n",
      "7    Youth  medium      no          fair            no         NaN\n",
      "8    Youth     low     yes          fair           yes         NaN\n",
      "9   senior  medium     yes          fair           yes         NaN\n",
      "10   Youth  medium     yes     excellent           yes         NaN\n",
      "11  middle  medium      no     excellent           yes         NaN\n",
      "12  middle    high     yes          fair           yes         NaN\n",
      "13  senior  medium      no     excellent            no         NaN\n",
      "14  middle    high     yes          fair           yes         NaN\n",
      "15  senior  medium      no     excellent            no         NaN\n",
      "16  middle     low     yes     excellent           yes         NaN\n",
      "17   Youth  medium      no          fair            no         NaN\n",
      "18   Youth    high      no          fair            no         NaN\n",
      "19   Youth    high      no     excellent            no         NaN\n",
      "20  senior     low     yes          fair           yes         NaN\n",
      "21  senior     low     yes     excellent            no         NaN\n",
      "22   Youth     low     yes          fair           yes         NaN\n",
      "23  middle    high      no          fair           yes         NaN\n",
      "24   Youth  medium     yes     excellent           yes         NaN\n",
      "25  senior  medium     yes          fair           yes         NaN\n",
      "26  senior  medium      no          fair           yes         NaN\n",
      "27  middle  medium      no     excellent           yes         NaN\n"
     ]
    }
   ],
   "source": [
    "print(dataset)"
   ]
  },
  {
   "cell_type": "code",
   "execution_count": 9,
   "metadata": {},
   "outputs": [
    {
     "data": {
      "text/html": [
       "<div>\n",
       "<style scoped>\n",
       "    .dataframe tbody tr th:only-of-type {\n",
       "        vertical-align: middle;\n",
       "    }\n",
       "\n",
       "    .dataframe tbody tr th {\n",
       "        vertical-align: top;\n",
       "    }\n",
       "\n",
       "    .dataframe thead th {\n",
       "        text-align: right;\n",
       "    }\n",
       "</style>\n",
       "<table border=\"1\" class=\"dataframe\">\n",
       "  <thead>\n",
       "    <tr style=\"text-align: right;\">\n",
       "      <th></th>\n",
       "      <th>age</th>\n",
       "      <th>income</th>\n",
       "      <th>student</th>\n",
       "      <th>credit_rating</th>\n",
       "      <th>buys_computer</th>\n",
       "    </tr>\n",
       "  </thead>\n",
       "  <tbody>\n",
       "    <tr>\n",
       "      <th>0</th>\n",
       "      <td>Youth</td>\n",
       "      <td>high</td>\n",
       "      <td>no</td>\n",
       "      <td>fair</td>\n",
       "      <td>no</td>\n",
       "    </tr>\n",
       "    <tr>\n",
       "      <th>1</th>\n",
       "      <td>Youth</td>\n",
       "      <td>high</td>\n",
       "      <td>no</td>\n",
       "      <td>excellent</td>\n",
       "      <td>no</td>\n",
       "    </tr>\n",
       "    <tr>\n",
       "      <th>2</th>\n",
       "      <td>middle</td>\n",
       "      <td>high</td>\n",
       "      <td>no</td>\n",
       "      <td>fair</td>\n",
       "      <td>yes</td>\n",
       "    </tr>\n",
       "    <tr>\n",
       "      <th>3</th>\n",
       "      <td>senior</td>\n",
       "      <td>medium</td>\n",
       "      <td>no</td>\n",
       "      <td>fair</td>\n",
       "      <td>yes</td>\n",
       "    </tr>\n",
       "    <tr>\n",
       "      <th>4</th>\n",
       "      <td>senior</td>\n",
       "      <td>low</td>\n",
       "      <td>yes</td>\n",
       "      <td>fair</td>\n",
       "      <td>yes</td>\n",
       "    </tr>\n",
       "    <tr>\n",
       "      <th>5</th>\n",
       "      <td>senior</td>\n",
       "      <td>low</td>\n",
       "      <td>yes</td>\n",
       "      <td>excellent</td>\n",
       "      <td>no</td>\n",
       "    </tr>\n",
       "    <tr>\n",
       "      <th>6</th>\n",
       "      <td>middle</td>\n",
       "      <td>low</td>\n",
       "      <td>yes</td>\n",
       "      <td>excellent</td>\n",
       "      <td>yes</td>\n",
       "    </tr>\n",
       "    <tr>\n",
       "      <th>7</th>\n",
       "      <td>Youth</td>\n",
       "      <td>medium</td>\n",
       "      <td>no</td>\n",
       "      <td>fair</td>\n",
       "      <td>no</td>\n",
       "    </tr>\n",
       "    <tr>\n",
       "      <th>8</th>\n",
       "      <td>Youth</td>\n",
       "      <td>low</td>\n",
       "      <td>yes</td>\n",
       "      <td>fair</td>\n",
       "      <td>yes</td>\n",
       "    </tr>\n",
       "    <tr>\n",
       "      <th>9</th>\n",
       "      <td>senior</td>\n",
       "      <td>medium</td>\n",
       "      <td>yes</td>\n",
       "      <td>fair</td>\n",
       "      <td>yes</td>\n",
       "    </tr>\n",
       "    <tr>\n",
       "      <th>10</th>\n",
       "      <td>Youth</td>\n",
       "      <td>medium</td>\n",
       "      <td>yes</td>\n",
       "      <td>excellent</td>\n",
       "      <td>yes</td>\n",
       "    </tr>\n",
       "    <tr>\n",
       "      <th>11</th>\n",
       "      <td>middle</td>\n",
       "      <td>medium</td>\n",
       "      <td>no</td>\n",
       "      <td>excellent</td>\n",
       "      <td>yes</td>\n",
       "    </tr>\n",
       "    <tr>\n",
       "      <th>12</th>\n",
       "      <td>middle</td>\n",
       "      <td>high</td>\n",
       "      <td>yes</td>\n",
       "      <td>fair</td>\n",
       "      <td>yes</td>\n",
       "    </tr>\n",
       "    <tr>\n",
       "      <th>13</th>\n",
       "      <td>senior</td>\n",
       "      <td>medium</td>\n",
       "      <td>no</td>\n",
       "      <td>excellent</td>\n",
       "      <td>no</td>\n",
       "    </tr>\n",
       "    <tr>\n",
       "      <th>14</th>\n",
       "      <td>middle</td>\n",
       "      <td>high</td>\n",
       "      <td>yes</td>\n",
       "      <td>fair</td>\n",
       "      <td>yes</td>\n",
       "    </tr>\n",
       "    <tr>\n",
       "      <th>15</th>\n",
       "      <td>senior</td>\n",
       "      <td>medium</td>\n",
       "      <td>no</td>\n",
       "      <td>excellent</td>\n",
       "      <td>no</td>\n",
       "    </tr>\n",
       "    <tr>\n",
       "      <th>16</th>\n",
       "      <td>middle</td>\n",
       "      <td>low</td>\n",
       "      <td>yes</td>\n",
       "      <td>excellent</td>\n",
       "      <td>yes</td>\n",
       "    </tr>\n",
       "    <tr>\n",
       "      <th>17</th>\n",
       "      <td>Youth</td>\n",
       "      <td>medium</td>\n",
       "      <td>no</td>\n",
       "      <td>fair</td>\n",
       "      <td>no</td>\n",
       "    </tr>\n",
       "    <tr>\n",
       "      <th>18</th>\n",
       "      <td>Youth</td>\n",
       "      <td>high</td>\n",
       "      <td>no</td>\n",
       "      <td>fair</td>\n",
       "      <td>no</td>\n",
       "    </tr>\n",
       "    <tr>\n",
       "      <th>19</th>\n",
       "      <td>Youth</td>\n",
       "      <td>high</td>\n",
       "      <td>no</td>\n",
       "      <td>excellent</td>\n",
       "      <td>no</td>\n",
       "    </tr>\n",
       "    <tr>\n",
       "      <th>20</th>\n",
       "      <td>senior</td>\n",
       "      <td>low</td>\n",
       "      <td>yes</td>\n",
       "      <td>fair</td>\n",
       "      <td>yes</td>\n",
       "    </tr>\n",
       "    <tr>\n",
       "      <th>21</th>\n",
       "      <td>senior</td>\n",
       "      <td>low</td>\n",
       "      <td>yes</td>\n",
       "      <td>excellent</td>\n",
       "      <td>no</td>\n",
       "    </tr>\n",
       "    <tr>\n",
       "      <th>22</th>\n",
       "      <td>Youth</td>\n",
       "      <td>low</td>\n",
       "      <td>yes</td>\n",
       "      <td>fair</td>\n",
       "      <td>yes</td>\n",
       "    </tr>\n",
       "    <tr>\n",
       "      <th>23</th>\n",
       "      <td>middle</td>\n",
       "      <td>high</td>\n",
       "      <td>no</td>\n",
       "      <td>fair</td>\n",
       "      <td>yes</td>\n",
       "    </tr>\n",
       "    <tr>\n",
       "      <th>24</th>\n",
       "      <td>Youth</td>\n",
       "      <td>medium</td>\n",
       "      <td>yes</td>\n",
       "      <td>excellent</td>\n",
       "      <td>yes</td>\n",
       "    </tr>\n",
       "    <tr>\n",
       "      <th>25</th>\n",
       "      <td>senior</td>\n",
       "      <td>medium</td>\n",
       "      <td>yes</td>\n",
       "      <td>fair</td>\n",
       "      <td>yes</td>\n",
       "    </tr>\n",
       "    <tr>\n",
       "      <th>26</th>\n",
       "      <td>senior</td>\n",
       "      <td>medium</td>\n",
       "      <td>no</td>\n",
       "      <td>fair</td>\n",
       "      <td>yes</td>\n",
       "    </tr>\n",
       "    <tr>\n",
       "      <th>27</th>\n",
       "      <td>middle</td>\n",
       "      <td>medium</td>\n",
       "      <td>no</td>\n",
       "      <td>excellent</td>\n",
       "      <td>yes</td>\n",
       "    </tr>\n",
       "  </tbody>\n",
       "</table>\n",
       "</div>"
      ],
      "text/plain": [
       "       age  income student credit_rating buys_computer\n",
       "0    Youth    high      no          fair            no\n",
       "1    Youth    high      no     excellent            no\n",
       "2   middle    high      no          fair           yes\n",
       "3   senior  medium      no          fair           yes\n",
       "4   senior     low     yes          fair           yes\n",
       "5   senior     low     yes     excellent            no\n",
       "6   middle     low     yes     excellent           yes\n",
       "7    Youth  medium      no          fair            no\n",
       "8    Youth     low     yes          fair           yes\n",
       "9   senior  medium     yes          fair           yes\n",
       "10   Youth  medium     yes     excellent           yes\n",
       "11  middle  medium      no     excellent           yes\n",
       "12  middle    high     yes          fair           yes\n",
       "13  senior  medium      no     excellent            no\n",
       "14  middle    high     yes          fair           yes\n",
       "15  senior  medium      no     excellent            no\n",
       "16  middle     low     yes     excellent           yes\n",
       "17   Youth  medium      no          fair            no\n",
       "18   Youth    high      no          fair            no\n",
       "19   Youth    high      no     excellent            no\n",
       "20  senior     low     yes          fair           yes\n",
       "21  senior     low     yes     excellent            no\n",
       "22   Youth     low     yes          fair           yes\n",
       "23  middle    high      no          fair           yes\n",
       "24   Youth  medium     yes     excellent           yes\n",
       "25  senior  medium     yes          fair           yes\n",
       "26  senior  medium      no          fair           yes\n",
       "27  middle  medium      no     excellent           yes"
      ]
     },
     "execution_count": 9,
     "metadata": {},
     "output_type": "execute_result"
    }
   ],
   "source": [
    "dataset.dropna(axis='columns')"
   ]
  },
  {
   "cell_type": "code",
   "execution_count": 10,
   "metadata": {},
   "outputs": [],
   "source": [
    "feature_col1=['youth','youth','middle','senior','senior','senior','middle','youth','youth','senior','youth','middle','middle','senior','middle','senior','middle','youth','youth','youth','senior','senior','youth','middle','youth','senior','senior','middle']"
   ]
  },
  {
   "cell_type": "code",
   "execution_count": 11,
   "metadata": {},
   "outputs": [
    {
     "name": "stdout",
     "output_type": "stream",
     "text": [
      "[2 2 0 1 1 1 0 2 2 1 2 0 0 1 0 1 0 2 2 2 1 1 2 0 2 1 1 0]\n"
     ]
    }
   ],
   "source": [
    "# Import LabelEncoder\n",
    "from sklearn import preprocessing\n",
    "#creating labelEncoder\n",
    "le = preprocessing.LabelEncoder()\n",
    "# Converting string labels into numbers.\n",
    "feature_encoded1=le.fit_transform(feature_col1)\n",
    "print(feature_encoded1)"
   ]
  },
  {
   "cell_type": "code",
   "execution_count": 12,
   "metadata": {},
   "outputs": [],
   "source": [
    "feature_col2=['high','high','high','medium','low','low','low','medium','low','medium','medium','medium','high','medium','high','medium','low','medium','high','high','low','low','low','high','medium','medium','medium','medium']"
   ]
  },
  {
   "cell_type": "code",
   "execution_count": 13,
   "metadata": {},
   "outputs": [
    {
     "name": "stdout",
     "output_type": "stream",
     "text": [
      "[0 0 0 2 1 1 1 2 1 2 2 2 0 2 0 2 1 2 0 0 1 1 1 0 2 2 2 2]\n"
     ]
    }
   ],
   "source": [
    "feature_encoded2=le.fit_transform(feature_col2)\n",
    "print(feature_encoded2)"
   ]
  },
  {
   "cell_type": "code",
   "execution_count": 14,
   "metadata": {},
   "outputs": [],
   "source": [
    "feature_col3=['no','no','no','no','yes','yes','yes','no','yes','yes','yes','no','yes','no','yes','no','yes','no','no','no','yes','yes','yes','no','yes','yes','no','no']"
   ]
  },
  {
   "cell_type": "code",
   "execution_count": 16,
   "metadata": {},
   "outputs": [
    {
     "name": "stdout",
     "output_type": "stream",
     "text": [
      "[0 0 0 0 1 1 1 0 1 1 1 0 1 0 1 0 1 0 0 0 1 1 1 0 1 1 0 0]\n"
     ]
    }
   ],
   "source": [
    "feature_encoded3=le.fit_transform(feature_col3)\n",
    "print(feature_encoded3)"
   ]
  },
  {
   "cell_type": "code",
   "execution_count": 17,
   "metadata": {},
   "outputs": [],
   "source": [
    "feature_col4=['fair','excellent','fair','fair','fair','excellent','excellent','fair','fair','fair','excellent','excellent','fair','excellent','fair','excellent','excellent','fair','fair','excellent','fair','excellent','fair','fair','excellent','fair','fair','excellent']"
   ]
  },
  {
   "cell_type": "code",
   "execution_count": 18,
   "metadata": {},
   "outputs": [
    {
     "name": "stdout",
     "output_type": "stream",
     "text": [
      "[1 0 1 1 1 0 0 1 1 1 0 0 1 0 1 0 0 1 1 0 1 0 1 1 0 1 1 0]\n"
     ]
    }
   ],
   "source": [
    "feature_encoded4=le.fit_transform(feature_col4)\n",
    "print(feature_encoded4)"
   ]
  },
  {
   "cell_type": "code",
   "execution_count": 19,
   "metadata": {},
   "outputs": [
    {
     "name": "stdout",
     "output_type": "stream",
     "text": [
      "[0 0 1 1 1 0 1 0 1 1 1 1 1 0 1 0 1 0 0 0 1 0 1 1 1 1 1 1]\n"
     ]
    }
   ],
   "source": [
    "label_col=['no','no','yes','yes','yes','no','yes','no','yes','yes','yes','yes','yes','no','yes','no','yes','no','no','no','yes','no','yes','yes','yes','yes','yes','yes']\n",
    "label_encoded=le.fit_transform(label_col)\n",
    "print(label_encoded)"
   ]
  },
  {
   "cell_type": "code",
   "execution_count": 20,
   "metadata": {},
   "outputs": [],
   "source": [
    "#combinig  into single listof tuples\n",
    "features=list(zip(feature_encoded1,feature_encoded2,feature_encoded3,feature_encoded4))"
   ]
  },
  {
   "cell_type": "code",
   "execution_count": 21,
   "metadata": {},
   "outputs": [],
   "source": [
    "X=features\n",
    "y=label_encoded"
   ]
  },
  {
   "cell_type": "code",
   "execution_count": 22,
   "metadata": {},
   "outputs": [],
   "source": [
    "from sklearn.metrics import confusion_matrix\n",
    "#from sklearn.cross_validation import train_test_split\n",
    "from sklearn.tree import DecisionTreeClassifier\n",
    "from sklearn.model_selection import train_test_split\n",
    "from sklearn.metrics import accuracy_score\n",
    "from sklearn.metrics import classification_report\n",
    "\n",
    "clf = DecisionTreeClassifier()\n"
   ]
  },
  {
   "cell_type": "code",
   "execution_count": 24,
   "metadata": {},
   "outputs": [
    {
     "name": "stdout",
     "output_type": "stream",
     "text": [
      "Accuracy: 0.7777777777777778\n"
     ]
    }
   ],
   "source": [
    "X_train, X_test, y_train, y_test = train_test_split(X, y, test_size=0.3, random_state=1) # 70% training and 30% test\n",
    "# Create Decision Tree classifer object\n",
    "clf = DecisionTreeClassifier()\n",
    "\n",
    "# Train Decision Tree Classifer\n",
    "clf = clf.fit(X_train,y_train)\n",
    "\n",
    "#Predict the response for test dataset\n",
    "y_pred = clf.predict(X_test)\n",
    "# Model Accuracy, how often is the classifier correct?\n",
    "from sklearn.metrics import accuracy_score\n",
    "from sklearn import metrics\n",
    "print(\"Accuracy:\",metrics.accuracy_score(y_test, y_pred))"
   ]
  },
  {
   "cell_type": "code",
   "execution_count": 26,
   "metadata": {},
   "outputs": [
    {
     "name": "stdout",
     "output_type": "stream",
     "text": [
      "Accuracy: 0.6666666666666666\n"
     ]
    }
   ],
   "source": [
    "# Create Decision Tree classifer object\n",
    "clf = DecisionTreeClassifier(criterion=\"entropy\", max_depth=3)\n",
    "\n",
    "# Train Decision Tree Classifer\n",
    "clf = clf.fit(X_train,y_train)\n",
    "\n",
    "#Predict the response for test dataset\n",
    "y_pred = clf.predict(X_test)\n",
    "\n",
    "# Model Accuracy, how often is the classifier correct?\n",
    "print(\"Accuracy:\",metrics.accuracy_score(y_test, y_pred))"
   ]
  },
  {
   "cell_type": "code",
   "execution_count": 26,
   "metadata": {},
   "outputs": [
    {
     "data": {
      "image/png": "[encoded data removed]",
      "text/plain": [
       "<Figure size 432x288 with 1 Axes>"
      ]
     },
     "metadata": {
      "needs_background": "light"
     },
     "output_type": "display_data"
    }
   ],
   "source": [
    "import matplotlib.pyplot as plt\n",
    "from sklearn import tree\n",
    "\n",
    "\n",
    "tree.plot_tree(clf, \n",
    "          feature_names = features, \n",
    "          class_names = label_col, \n",
    "          filled = True, \n",
    "          rounded = True)\n",
    "\n",
    "plt.savefig('tree_visualization.png') "
   ]
  },
  {
   "cell_type": "code",
   "execution_count": 20,
   "metadata": {},
   "outputs": [],
   "source": []
  },
  {
   "cell_type": "code",
   "execution_count": 25,
   "metadata": {},
   "outputs": [
    {
     "data": {
      "image/png": "[encoded data removed]",
      "text/plain": [
       "<Figure size 600x600 with 1 Axes>"
      ]
     },
     "metadata": {
      "needs_background": "light"
     },
     "output_type": "display_data"
    }
   ],
   "source": [
    "import matplotlib.pyplot as plt\n",
    "from sklearn import tree\n",
    "fig, axes = plt.subplots(nrows = 1,ncols = 1,figsize = (2,2), dpi=300)\n",
    "\n",
    "tree.plot_tree(clf,\n",
    "           feature_names = features,\n",
    "           class_names=label_col,\n",
    "           filled = True);\n",
    "\n",
    "fig.savefig('imagename.png')"
   ]
  },
  {
   "cell_type": "code",
   "execution_count": 28,
   "metadata": {},
   "outputs": [
    {
     "name": "stdout",
     "output_type": "stream",
     "text": [
      "|--- feature_0 <= 0.50\n",
      "|   |--- class: 1\n",
      "|--- feature_0 >  0.50\n",
      "|   |--- feature_3 <= 0.50\n",
      "|   |   |--- class: 0\n",
      "|   |--- feature_3 >  0.50\n",
      "|   |   |--- feature_2 <= 0.50\n",
      "|   |   |   |--- class: 0\n",
      "|   |   |--- feature_2 >  0.50\n",
      "|   |   |   |--- class: 1\n",
      "\n"
     ]
    }
   ],
   "source": [
    "from sklearn import tree\n",
    "text_representation = tree.export_text(clf)\n",
    "print(text_representation)"
   ]
  },
  {
   "cell_type": "code",
   "execution_count": null,
   "metadata": {},
   "outputs": [],
   "source": [
    "\n"
   ]
  },
  {
   "cell_type": "markdown",
   "metadata": {},
   "source": [
    "<h1>NAIVE BAYES</h1>"
   ]
  },
  {
   "cell_type": "code",
   "execution_count": 37,
   "metadata": {},
   "outputs": [
    {
     "name": "stdout",
     "output_type": "stream",
     "text": [
      "buys_computer: [0]\n"
     ]
    }
   ],
   "source": [
    "#Import Gaussian Naive Bayes model\n",
    "from sklearn.naive_bayes import GaussianNB\n",
    "\n",
    "#Create a Gaussian Classifier\n",
    "model = GaussianNB()\n",
    "\n",
    "# Train the model using the training sets\n",
    "model.fit(features,label_encoded)\n",
    "\n",
    "#Predict Output\n",
    "predicted= model.predict([[1,0,0,1]]) # 1:senior, 0:income=high,0:student=no,1:credit_rating=fair\n",
    "print (\"buys_computer:\", predicted)\n",
    "#Query 1:\n",
    "#query = np.array([['senior','high', 'no', 'fair']])\n",
    "#print(\"Query 1:- {} ---> {}\".format(query, model.predict(query)))\n"
   ]
  },
  {
   "cell_type": "markdown",
   "metadata": {},
   "source": [
    "<h1>linear regression</h1>"
   ]
  },
  {
   "cell_type": "code",
   "execution_count": 2,
   "metadata": {},
   "outputs": [
    {
     "name": "stdout",
     "output_type": "stream",
     "text": [
      "[0.58160008]\n",
      "[32.02786108]\n",
      "[82.04546774]\n"
     ]
    }
   ],
   "source": [
    "import numpy as np\n",
    "import matplotlib.pyplot as plt\n",
    "x = np.array([72,50,81,74,94,86,59,83,65,33,88,81]).reshape((-1, 1))\n",
    "y = np.array([84,63,77,78,90,75,49,79,77,52,74,90])\n",
    "\n",
    "sumx=0\n",
    "sumy=0\n",
    "sumxy=0\n",
    "sumx2=0\n",
    "n=12\n",
    "for i in range(n):\n",
    "    sumx=sumx+x[i]\n",
    "    sumx2=sumx2+x[i]*x[i]\n",
    "    sumy=sumy+y[i]\n",
    "    sumxy=sumxy+x[i]*y[i]\n",
    "b=(n*sumxy-sumx*sumy)/(n*sumx2-sumx*sumx)\n",
    "a=(sumy-b*sumx)/n\n",
    "print(b)\n",
    "print(a)\n",
    "x=86\n",
    "y=a+b*x\n",
    "print(y)"
   ]
  },
  {
   "cell_type": "markdown",
   "metadata": {},
   "source": [
    "<h1>hierarchical clustering</h1>"
   ]
  },
  {
   "cell_type": "code",
   "execution_count": 2,
   "metadata": {},
   "outputs": [
    {
     "data": {
      "image/png": "[encoded data removed]",
      "text/plain": [
       "<Figure size 360x360 with 1 Axes>"
      ]
     },
     "metadata": {
      "needs_background": "light"
     },
     "output_type": "display_data"
    }
   ],
   "source": [
    "import numpy as np\n",
    "\n",
    "X = np.array([[2,5],\n",
    "              [4,1],\n",
    "              [1,1],\n",
    "              [1,5],\n",
    "              [5,1],\n",
    "              [4,5],\n",
    "              [2,1]])\n",
    "import matplotlib.pyplot as plt\n",
    "\n",
    "labels = range(1, 8)\n",
    "plt.figure(figsize=(5, 5))\n",
    "plt.subplots_adjust(bottom=0.1)\n",
    "plt.scatter(X[:,0],X[:,1], label='True Position')\n",
    "\n",
    "for label, x, y in zip(labels, X[:, 0], X[:, 1]):\n",
    "    plt.annotate(\n",
    "        label,\n",
    "        xy=(x, y), xytext=(-3, 3),\n",
    "        textcoords='offset points', ha='right', va='bottom')\n",
    "plt.show()"
   ]
  },
  {
   "cell_type": "code",
   "execution_count": 3,
   "metadata": {},
   "outputs": [
    {
     "data": {
      "text/plain": [
       "array([1, 0, 0, 1, 0, 1, 0], dtype=int64)"
      ]
     },
     "execution_count": 3,
     "metadata": {},
     "output_type": "execute_result"
    }
   ],
   "source": [
    "from sklearn.cluster import AgglomerativeClustering\n",
    "cluster = AgglomerativeClustering(n_clusters = 2, affinity = 'euclidean', linkage = 'ward')\n",
    "cluster.fit_predict(X)"
   ]
  },
  {
   "cell_type": "code",
   "execution_count": 4,
   "metadata": {},
   "outputs": [
    {
     "data": {
      "text/plain": [
       "<matplotlib.collections.PathCollection at 0x252d1ea5700>"
      ]
     },
     "execution_count": 4,
     "metadata": {},
     "output_type": "execute_result"
    },
    {
     "data": {
      "image/png": "[encoded data removed]",
      "text/plain": [
       "<Figure size 432x288 with 1 Axes>"
      ]
     },
     "metadata": {
      "needs_background": "light"
     },
     "output_type": "display_data"
    }
   ],
   "source": [
    "plt.scatter(X[:,0],X[:,1], c = cluster.labels_, cmap = 'rainbow')"
   ]
  },
  {
   "cell_type": "code",
   "execution_count": 5,
   "metadata": {},
   "outputs": [
    {
     "data": {
      "image/png": "[encoded data removed]",
      "text/plain": [
       "<Figure size 504x504 with 1 Axes>"
      ]
     },
     "metadata": {
      "needs_background": "light"
     },
     "output_type": "display_data"
    }
   ],
   "source": [
    "from scipy.cluster.hierarchy import dendrogram, linkage\n",
    "from matplotlib import pyplot as plt\n",
    "\n",
    "linked = linkage(X, 'single')\n",
    "\n",
    "labelList = range(1, 8)\n",
    "\n",
    "plt.figure(figsize=(7, 7))\n",
    "dendrogram(linked,\n",
    "            orientation='top',\n",
    "            labels=labelList,\n",
    "            distance_sort='descending',\n",
    "            show_leaf_counts=True)\n",
    "plt.show()"
   ]
  },
  {
   "cell_type": "markdown",
   "metadata": {},
   "source": [
    "<h1>SVM</h1>"
   ]
  },
  {
   "cell_type": "code",
   "execution_count": 2,
   "metadata": {},
   "outputs": [
    {
     "name": "stdout",
     "output_type": "stream",
     "text": [
      "[-1]\n"
     ]
    }
   ],
   "source": [
    "import numpy as np\n",
    "X = np.array([[3, 1], [3, -1], [6, 1], [6, -1],[1,0],[0,1],[0,-1],[-1,0]])\n",
    "y = np.array([1, 1, 1, 1,-1,-1,-1,-1])#\n",
    "#class1=positive=1\n",
    "#class2=negative=-1\n",
    "from sklearn.svm import SVC\n",
    "clf = SVC(kernel='linear')\n",
    "clf.fit(X, y)\n",
    "prediction = clf.predict([[2,1]])\n",
    "print(prediction)"
   ]
  },
  {
   "cell_type": "code",
   "execution_count": 10,
   "metadata": {},
   "outputs": [
    {
     "name": "stdout",
     "output_type": "stream",
     "text": [
      "positive\n"
     ]
    }
   ],
   "source": [
    "if prediction == 1:\n",
    "        print(\"positive\")\n",
    "elif prediction == -1:\n",
    "        print(\"negative\")"
   ]
  },
  {
   "cell_type": "code",
   "execution_count": 6,
   "metadata": {},
   "outputs": [
    {
     "data": {
      "image/png": "[encoded data removed]",
      "text/plain": [
       "<Figure size 432x288 with 1 Axes>"
      ]
     },
     "metadata": {
      "needs_background": "light"
     },
     "output_type": "display_data"
    },
    {
     "name": "stdout",
     "output_type": "stream",
     "text": [
      "[1]\n"
     ]
    }
   ],
   "source": [
    "# Load libraries\n",
    "from sklearn.svm import LinearSVC\n",
    "from sklearn import datasets\n",
    "from sklearn.preprocessing import StandardScaler\n",
    "import numpy as np\n",
    "from matplotlib import pyplot as plt\n",
    "X = np.array([[3, 1], [3, -1], [6, 1], [6, -1],[1,0],[0,1],[0,-1],[-1,0]])\n",
    "y = np.array([1, 1, 1, 1,-1,-1,-1,-1])#\n",
    "# Create support vector classifier\n",
    "svc = LinearSVC(C=1.0)\n",
    "\n",
    "# Train model\n",
    "model = svc.fit(X, y)\n",
    "# Plot data points and color using their class\n",
    "color = ['black' if c == 0 else 'lightgrey' for c in y]\n",
    "plt.scatter(X[:,0], X[:,1], c=color)\n",
    "\n",
    "# Create the hyperplane\n",
    "w = svc.coef_[0]\n",
    "a = -w[0] / w[1]\n",
    "xx = np.linspace(-2.5, 2.5)\n",
    "yy = a * xx - (svc.intercept_[0]) / w[1]\n",
    "\n",
    "# Plot the hyperplane\n",
    "plt.plot(xx, yy)\n",
    "plt.axis(\"off\"), plt.show();\n",
    "prediction = model.predict([[2,1]])\n",
    "print(prediction)\n"
   ]
  },
  {
   "cell_type": "code",
   "execution_count": 8,
   "metadata": {},
   "outputs": [
    {
     "name": "stderr",
     "output_type": "stream",
     "text": [
      "No handles with labels found to put in legend.\n"
     ]
    },
    {
     "name": "stdout",
     "output_type": "stream",
     "text": [
      "[-1]\n"
     ]
    },
    {
     "data": {
      "image/png": "[encoded data removed]",
      "text/plain": [
       "<Figure size 432x288 with 1 Axes>"
      ]
     },
     "metadata": {},
     "output_type": "display_data"
    }
   ],
   "source": [
    "from sklearn.svm import SVC\n",
    "import numpy as np\n",
    "import matplotlib.pyplot as plt\n",
    "from sklearn import svm, datasets\n",
    "X = np.array([[3, 1], [3, -1], [6, 1], [6, -1],[1,0],[0,1],[0,-1],[-1,0]])\n",
    "y = np.array([1, 1, 1, 1,-1,-1,-1,-1])#\n",
    "\n",
    "\n",
    "def make_meshgrid(x, y, h=.02):\n",
    "    x_min, x_max = x.min() - 1, x.max() + 1\n",
    "    y_min, y_max = y.min() - 1, y.max() + 1\n",
    "    xx, yy = np.meshgrid(np.arange(x_min, x_max, h), np.arange(y_min, y_max, h))\n",
    "    return xx, yy\n",
    "\n",
    "def plot_contours(ax, clf, xx, yy, **params):\n",
    "    Z = clf.predict(np.c_[xx.ravel(), yy.ravel()])\n",
    "    Z = Z.reshape(xx.shape)\n",
    "    out = ax.contourf(xx, yy, Z, **params)\n",
    "    return out\n",
    "\n",
    "model = svm.SVC(kernel='linear')\n",
    "clf = model.fit(X, y)\n",
    "prediction = model.predict([[2,1]])\n",
    "print(prediction)\n",
    "\n",
    "fig, ax = plt.subplots()\n",
    "# title for the plots\n",
    "title = ('Decision surface of linear SVC ')\n",
    "# Set-up grid for plotting.\n",
    "X0, X1 = X[:, 0], X[:, 1]\n",
    "xx, yy = make_meshgrid(X0, X1)\n",
    "\n",
    "plot_contours(ax, clf, xx, yy, cmap=plt.cm.coolwarm, alpha=0.8)\n",
    "ax.scatter(X0, X1, c=y, cmap=plt.cm.coolwarm, s=20, edgecolors='k')\n",
    "ax.set_ylabel('y label here')\n",
    "ax.set_xlabel('x label here')\n",
    "ax.set_xticks(())\n",
    "ax.set_yticks(())\n",
    "ax.set_title(title)\n",
    "ax.legend()\n",
    "plt.show()"
   ]
  },
  {
   "cell_type": "code",
   "execution_count": 15,
   "metadata": {},
   "outputs": [
    {
     "name": "stdout",
     "output_type": "stream",
     "text": [
      "[-1]\n",
      "[-1]\n",
      "[-1]\n",
      "[-1]\n"
     ]
    },
    {
     "data": {
      "image/png": "[encoded data removed]",
      "text/plain": [
       "<Figure size 576x396 with 4 Axes>"
      ]
     },
     "metadata": {},
     "output_type": "display_data"
    }
   ],
   "source": [
    "#print(__doc__)\n",
    "\n",
    "import numpy as np\n",
    "import matplotlib.pyplot as plt\n",
    "from sklearn import svm, datasets\n",
    "\n",
    "# import some data to play with\n",
    "X = np.array([[3, 1], [3, -1], [6, 1], [6, -1],[1,0],[0,1],[0,-1],[-1,0]])\n",
    "y = np.array([1, 1, 1, 1,-1,-1,-1,-1])#\n",
    "\n",
    "h = .02  # step size in the mesh\n",
    "\n",
    "# we create an instance of SVM and fit out data. We do not scale our\n",
    "# data since we want to plot the support vectors\n",
    "C = 1.0  # SVM regularization parameter\n",
    "svc = svm.SVC(kernel='linear', C=C).fit(X, y)\n",
    "rbf_svc = svm.SVC(kernel='rbf', gamma=0.7, C=C).fit(X, y)\n",
    "poly_svc = svm.SVC(kernel='poly', degree=3, C=C).fit(X, y)\n",
    "lin_svc = svm.LinearSVC(C=C).fit(X, y)\n",
    "\n",
    "# create a mesh to plot in\n",
    "x_min, x_max = X[:, 0].min() - 1, X[:, 0].max() + 1\n",
    "y_min, y_max = X[:, 1].min() - 1, X[:, 1].max() + 1\n",
    "xx, yy = np.meshgrid(np.arange(x_min, x_max, h),\n",
    "                     np.arange(y_min, y_max, h))\n",
    "\n",
    "# title for the plots\n",
    "titles = ['SVC with linear kernel',\n",
    "          'LinearSVC (linear kernel)',\n",
    "          'SVC with RBF kernel',\n",
    "          'SVC with polynomial (degree 3) kernel']\n",
    "\n",
    "\n",
    "for i, clf in enumerate((svc, lin_svc, rbf_svc, poly_svc)):\n",
    "    # Plot the decision boundary. For that, we will assign a color to each\n",
    "    # point in the mesh [x_min, x_max]x[y_min, y_max].\n",
    "    plt.subplot(2, 2, i + 1)\n",
    "    plt.subplots_adjust(wspace=0.4, hspace=0.4)\n",
    "\n",
    "    prediction = svc.predict([[2,1]])\n",
    "    print(prediction)\n",
    "\n",
    "    # Plot also the training points\n",
    "    plt.scatter(X[:, 0], X[:, 1], c=y, cmap=plt.cm.coolwarm)\n",
    "    plt.xlabel('x-axis')\n",
    "    plt.ylabel('y-axis')\n",
    "    plt.xlim(xx.min(), xx.max())\n",
    "    plt.ylim(yy.min(), yy.max())\n",
    "    plt.xticks(())\n",
    "    plt.yticks(())\n",
    "    plt.title(titles[i])\n",
    "\n",
    "plt.show()"
   ]
  },
  {
   "cell_type": "code",
   "execution_count": 4,
   "metadata": {},
   "outputs": [
    {
     "name": "stderr",
     "output_type": "stream",
     "text": [
      "C:\\Users\\Laptop House\\anaconda\\lib\\site-packages\\yellowbrick\\contrib\\classifier\\boundaries.py:435: MatplotlibDeprecationWarning: shading='flat' when X and Y have the same dimensions as C is deprecated since 3.3.  Either specify the corners of the quadrilaterals with X and Y, or pass shading='auto', 'nearest' or 'gouraud', or set rcParams['pcolor.shading'].  This will become an error two minor releases later.\n",
      "  self.ax.pcolormesh(\n"
     ]
    },
    {
     "data": {
      "image/png": "[encoded data removed]",
      "text/plain": [
       "<Figure size 576x396 with 1 Axes>"
      ]
     },
     "metadata": {},
     "output_type": "display_data"
    },
    {
     "data": {
      "text/plain": [
       "<AxesSubplot:xlabel='Feature One', ylabel='Feature Two'>"
      ]
     },
     "execution_count": 4,
     "metadata": {},
     "output_type": "execute_result"
    }
   ],
   "source": [
    "from sklearn.svm import SVC\n",
    "from sklearn.model_selection import train_test_split as tts\n",
    "from sklearn.preprocessing import StandardScaler\n",
    "from sklearn.datasets import make_moons\n",
    "from sklearn.neighbors import KNeighborsClassifier\n",
    "from yellowbrick.contrib.classifier import DecisionViz\n",
    "import numpy as np\n",
    "# import some data to play with\n",
    "X = np.array([[3, 1], [3, -1], [6, 1], [6, -1],[1,0],[0,1],[0,-1],[-1,0]])\n",
    "y = np.array([1, 1, 1, 1,-1,-1,-1,-1])#\n",
    "\n",
    "viz = DecisionViz(\n",
    "    SVC(kernel=\"rbf\", C=0.025), title=\"Linear SVM\",\n",
    "    features=['Feature One', 'Feature Two'], classes=['A', 'B']\n",
    ")\n",
    "viz.fit(X, y)\n",
    "viz.draw(X, y)\n",
    "viz.show()"
   ]
  },
  {
   "cell_type": "code",
   "execution_count": 10,
   "metadata": {},
   "outputs": [
    {
     "name": "stdout",
     "output_type": "stream",
     "text": [
      "[-1]\n"
     ]
    },
    {
     "ename": "TypeError",
     "evalue": "Input z must be 2D, not 1D",
     "output_type": "error",
     "traceback": [
      "\u001b[1;31m---------------------------------------------------------------------------\u001b[0m",
      "\u001b[1;31mTypeError\u001b[0m                                 Traceback (most recent call last)",
      "\u001b[1;32m<ipython-input-10-4394a197cd27>\u001b[0m in \u001b[0;36m<module>\u001b[1;34m\u001b[0m\n\u001b[0;32m     20\u001b[0m \u001b[1;33m\u001b[0m\u001b[0m\n\u001b[0;32m     21\u001b[0m \u001b[1;33m\u001b[0m\u001b[0m\n\u001b[1;32m---> 22\u001b[1;33m \u001b[0mplt\u001b[0m\u001b[1;33m.\u001b[0m\u001b[0mcontourf\u001b[0m\u001b[1;33m(\u001b[0m\u001b[0mxx\u001b[0m\u001b[1;33m,\u001b[0m \u001b[0myy\u001b[0m\u001b[1;33m,\u001b[0m \u001b[0mprediction\u001b[0m\u001b[1;33m,\u001b[0m \u001b[0mcmap\u001b[0m\u001b[1;33m=\u001b[0m\u001b[0mplt\u001b[0m\u001b[1;33m.\u001b[0m\u001b[0mcm\u001b[0m\u001b[1;33m.\u001b[0m\u001b[0mPaired\u001b[0m\u001b[1;33m,\u001b[0m \u001b[0malpha\u001b[0m\u001b[1;33m=\u001b[0m\u001b[1;36m0.8\u001b[0m\u001b[1;33m)\u001b[0m\u001b[1;33m\u001b[0m\u001b[1;33m\u001b[0m\u001b[0m\n\u001b[0m\u001b[0;32m     23\u001b[0m \u001b[0mplt\u001b[0m\u001b[1;33m.\u001b[0m\u001b[0mscatter\u001b[0m\u001b[1;33m(\u001b[0m\u001b[0mX\u001b[0m\u001b[1;33m[\u001b[0m\u001b[1;33m:\u001b[0m\u001b[1;33m,\u001b[0m \u001b[1;36m0\u001b[0m\u001b[1;33m]\u001b[0m\u001b[1;33m,\u001b[0m \u001b[0mX\u001b[0m\u001b[1;33m[\u001b[0m\u001b[1;33m:\u001b[0m\u001b[1;33m,\u001b[0m \u001b[1;36m1\u001b[0m\u001b[1;33m]\u001b[0m\u001b[1;33m,\u001b[0m \u001b[0mc\u001b[0m\u001b[1;33m=\u001b[0m\u001b[0my\u001b[0m\u001b[1;33m,\u001b[0m \u001b[0mcmap\u001b[0m\u001b[1;33m=\u001b[0m\u001b[0mplt\u001b[0m\u001b[1;33m.\u001b[0m\u001b[0mcm\u001b[0m\u001b[1;33m.\u001b[0m\u001b[0mPaired\u001b[0m\u001b[1;33m)\u001b[0m\u001b[1;33m\u001b[0m\u001b[1;33m\u001b[0m\u001b[0m\n\u001b[0;32m     24\u001b[0m \u001b[0mplt\u001b[0m\u001b[1;33m.\u001b[0m\u001b[0mxlabel\u001b[0m\u001b[1;33m(\u001b[0m\u001b[1;34m'x'\u001b[0m\u001b[1;33m)\u001b[0m\u001b[1;33m\u001b[0m\u001b[1;33m\u001b[0m\u001b[0m\n",
      "\u001b[1;32m~\\anaconda\\lib\\site-packages\\matplotlib\\pyplot.py\u001b[0m in \u001b[0;36mcontourf\u001b[1;34m(data, *args, **kwargs)\u001b[0m\n\u001b[0;32m   2575\u001b[0m \u001b[1;33m@\u001b[0m\u001b[0m_copy_docstring_and_deprecators\u001b[0m\u001b[1;33m(\u001b[0m\u001b[0mAxes\u001b[0m\u001b[1;33m.\u001b[0m\u001b[0mcontourf\u001b[0m\u001b[1;33m)\u001b[0m\u001b[1;33m\u001b[0m\u001b[1;33m\u001b[0m\u001b[0m\n\u001b[0;32m   2576\u001b[0m \u001b[1;32mdef\u001b[0m \u001b[0mcontourf\u001b[0m\u001b[1;33m(\u001b[0m\u001b[1;33m*\u001b[0m\u001b[0margs\u001b[0m\u001b[1;33m,\u001b[0m \u001b[0mdata\u001b[0m\u001b[1;33m=\u001b[0m\u001b[1;32mNone\u001b[0m\u001b[1;33m,\u001b[0m \u001b[1;33m**\u001b[0m\u001b[0mkwargs\u001b[0m\u001b[1;33m)\u001b[0m\u001b[1;33m:\u001b[0m\u001b[1;33m\u001b[0m\u001b[1;33m\u001b[0m\u001b[0m\n\u001b[1;32m-> 2577\u001b[1;33m     __ret = gca().contourf(\n\u001b[0m\u001b[0;32m   2578\u001b[0m         \u001b[1;33m*\u001b[0m\u001b[0margs\u001b[0m\u001b[1;33m,\u001b[0m \u001b[1;33m**\u001b[0m\u001b[1;33m(\u001b[0m\u001b[1;33m{\u001b[0m\u001b[1;34m\"data\"\u001b[0m\u001b[1;33m:\u001b[0m \u001b[0mdata\u001b[0m\u001b[1;33m}\u001b[0m \u001b[1;32mif\u001b[0m \u001b[0mdata\u001b[0m \u001b[1;32mis\u001b[0m \u001b[1;32mnot\u001b[0m \u001b[1;32mNone\u001b[0m \u001b[1;32melse\u001b[0m \u001b[1;33m{\u001b[0m\u001b[1;33m}\u001b[0m\u001b[1;33m)\u001b[0m\u001b[1;33m,\u001b[0m\u001b[1;33m\u001b[0m\u001b[1;33m\u001b[0m\u001b[0m\n\u001b[0;32m   2579\u001b[0m         **kwargs)\n",
      "\u001b[1;32m~\\anaconda\\lib\\site-packages\\matplotlib\\__init__.py\u001b[0m in \u001b[0;36minner\u001b[1;34m(ax, data, *args, **kwargs)\u001b[0m\n\u001b[0;32m   1436\u001b[0m     \u001b[1;32mdef\u001b[0m \u001b[0minner\u001b[0m\u001b[1;33m(\u001b[0m\u001b[0max\u001b[0m\u001b[1;33m,\u001b[0m \u001b[1;33m*\u001b[0m\u001b[0margs\u001b[0m\u001b[1;33m,\u001b[0m \u001b[0mdata\u001b[0m\u001b[1;33m=\u001b[0m\u001b[1;32mNone\u001b[0m\u001b[1;33m,\u001b[0m \u001b[1;33m**\u001b[0m\u001b[0mkwargs\u001b[0m\u001b[1;33m)\u001b[0m\u001b[1;33m:\u001b[0m\u001b[1;33m\u001b[0m\u001b[1;33m\u001b[0m\u001b[0m\n\u001b[0;32m   1437\u001b[0m         \u001b[1;32mif\u001b[0m \u001b[0mdata\u001b[0m \u001b[1;32mis\u001b[0m \u001b[1;32mNone\u001b[0m\u001b[1;33m:\u001b[0m\u001b[1;33m\u001b[0m\u001b[1;33m\u001b[0m\u001b[0m\n\u001b[1;32m-> 1438\u001b[1;33m             \u001b[1;32mreturn\u001b[0m \u001b[0mfunc\u001b[0m\u001b[1;33m(\u001b[0m\u001b[0max\u001b[0m\u001b[1;33m,\u001b[0m \u001b[1;33m*\u001b[0m\u001b[0mmap\u001b[0m\u001b[1;33m(\u001b[0m\u001b[0msanitize_sequence\u001b[0m\u001b[1;33m,\u001b[0m \u001b[0margs\u001b[0m\u001b[1;33m)\u001b[0m\u001b[1;33m,\u001b[0m \u001b[1;33m**\u001b[0m\u001b[0mkwargs\u001b[0m\u001b[1;33m)\u001b[0m\u001b[1;33m\u001b[0m\u001b[1;33m\u001b[0m\u001b[0m\n\u001b[0m\u001b[0;32m   1439\u001b[0m \u001b[1;33m\u001b[0m\u001b[0m\n\u001b[0;32m   1440\u001b[0m         \u001b[0mbound\u001b[0m \u001b[1;33m=\u001b[0m \u001b[0mnew_sig\u001b[0m\u001b[1;33m.\u001b[0m\u001b[0mbind\u001b[0m\u001b[1;33m(\u001b[0m\u001b[0max\u001b[0m\u001b[1;33m,\u001b[0m \u001b[1;33m*\u001b[0m\u001b[0margs\u001b[0m\u001b[1;33m,\u001b[0m \u001b[1;33m**\u001b[0m\u001b[0mkwargs\u001b[0m\u001b[1;33m)\u001b[0m\u001b[1;33m\u001b[0m\u001b[1;33m\u001b[0m\u001b[0m\n",
      "\u001b[1;32m~\\anaconda\\lib\\site-packages\\matplotlib\\axes\\_axes.py\u001b[0m in \u001b[0;36mcontourf\u001b[1;34m(self, *args, **kwargs)\u001b[0m\n\u001b[0;32m   6338\u001b[0m     \u001b[1;32mdef\u001b[0m \u001b[0mcontourf\u001b[0m\u001b[1;33m(\u001b[0m\u001b[0mself\u001b[0m\u001b[1;33m,\u001b[0m \u001b[1;33m*\u001b[0m\u001b[0margs\u001b[0m\u001b[1;33m,\u001b[0m \u001b[1;33m**\u001b[0m\u001b[0mkwargs\u001b[0m\u001b[1;33m)\u001b[0m\u001b[1;33m:\u001b[0m\u001b[1;33m\u001b[0m\u001b[1;33m\u001b[0m\u001b[0m\n\u001b[0;32m   6339\u001b[0m         \u001b[0mkwargs\u001b[0m\u001b[1;33m[\u001b[0m\u001b[1;34m'filled'\u001b[0m\u001b[1;33m]\u001b[0m \u001b[1;33m=\u001b[0m \u001b[1;32mTrue\u001b[0m\u001b[1;33m\u001b[0m\u001b[1;33m\u001b[0m\u001b[0m\n\u001b[1;32m-> 6340\u001b[1;33m         \u001b[0mcontours\u001b[0m \u001b[1;33m=\u001b[0m \u001b[0mmcontour\u001b[0m\u001b[1;33m.\u001b[0m\u001b[0mQuadContourSet\u001b[0m\u001b[1;33m(\u001b[0m\u001b[0mself\u001b[0m\u001b[1;33m,\u001b[0m \u001b[1;33m*\u001b[0m\u001b[0margs\u001b[0m\u001b[1;33m,\u001b[0m \u001b[1;33m**\u001b[0m\u001b[0mkwargs\u001b[0m\u001b[1;33m)\u001b[0m\u001b[1;33m\u001b[0m\u001b[1;33m\u001b[0m\u001b[0m\n\u001b[0m\u001b[0;32m   6341\u001b[0m         \u001b[0mself\u001b[0m\u001b[1;33m.\u001b[0m\u001b[0m_request_autoscale_view\u001b[0m\u001b[1;33m(\u001b[0m\u001b[1;33m)\u001b[0m\u001b[1;33m\u001b[0m\u001b[1;33m\u001b[0m\u001b[0m\n\u001b[0;32m   6342\u001b[0m         \u001b[1;32mreturn\u001b[0m \u001b[0mcontours\u001b[0m\u001b[1;33m\u001b[0m\u001b[1;33m\u001b[0m\u001b[0m\n",
      "\u001b[1;32m~\\anaconda\\lib\\site-packages\\matplotlib\\contour.py\u001b[0m in \u001b[0;36m__init__\u001b[1;34m(self, ax, levels, filled, linewidths, linestyles, hatches, alpha, origin, extent, cmap, colors, norm, vmin, vmax, extend, antialiased, nchunk, locator, transform, *args, **kwargs)\u001b[0m\n\u001b[0;32m    814\u001b[0m         \u001b[0mself\u001b[0m\u001b[1;33m.\u001b[0m\u001b[0m_transform\u001b[0m \u001b[1;33m=\u001b[0m \u001b[0mtransform\u001b[0m\u001b[1;33m\u001b[0m\u001b[1;33m\u001b[0m\u001b[0m\n\u001b[0;32m    815\u001b[0m \u001b[1;33m\u001b[0m\u001b[0m\n\u001b[1;32m--> 816\u001b[1;33m         \u001b[0mkwargs\u001b[0m \u001b[1;33m=\u001b[0m \u001b[0mself\u001b[0m\u001b[1;33m.\u001b[0m\u001b[0m_process_args\u001b[0m\u001b[1;33m(\u001b[0m\u001b[1;33m*\u001b[0m\u001b[0margs\u001b[0m\u001b[1;33m,\u001b[0m \u001b[1;33m**\u001b[0m\u001b[0mkwargs\u001b[0m\u001b[1;33m)\u001b[0m\u001b[1;33m\u001b[0m\u001b[1;33m\u001b[0m\u001b[0m\n\u001b[0m\u001b[0;32m    817\u001b[0m         \u001b[0mself\u001b[0m\u001b[1;33m.\u001b[0m\u001b[0m_process_levels\u001b[0m\u001b[1;33m(\u001b[0m\u001b[1;33m)\u001b[0m\u001b[1;33m\u001b[0m\u001b[1;33m\u001b[0m\u001b[0m\n\u001b[0;32m    818\u001b[0m \u001b[1;33m\u001b[0m\u001b[0m\n",
      "\u001b[1;32m~\\anaconda\\lib\\site-packages\\matplotlib\\contour.py\u001b[0m in \u001b[0;36m_process_args\u001b[1;34m(self, corner_mask, *args, **kwargs)\u001b[0m\n\u001b[0;32m   1428\u001b[0m             \u001b[0mself\u001b[0m\u001b[1;33m.\u001b[0m\u001b[0m_corner_mask\u001b[0m \u001b[1;33m=\u001b[0m \u001b[0mcorner_mask\u001b[0m\u001b[1;33m\u001b[0m\u001b[1;33m\u001b[0m\u001b[0m\n\u001b[0;32m   1429\u001b[0m \u001b[1;33m\u001b[0m\u001b[0m\n\u001b[1;32m-> 1430\u001b[1;33m             \u001b[0mx\u001b[0m\u001b[1;33m,\u001b[0m \u001b[0my\u001b[0m\u001b[1;33m,\u001b[0m \u001b[0mz\u001b[0m \u001b[1;33m=\u001b[0m \u001b[0mself\u001b[0m\u001b[1;33m.\u001b[0m\u001b[0m_contour_args\u001b[0m\u001b[1;33m(\u001b[0m\u001b[0margs\u001b[0m\u001b[1;33m,\u001b[0m \u001b[0mkwargs\u001b[0m\u001b[1;33m)\u001b[0m\u001b[1;33m\u001b[0m\u001b[1;33m\u001b[0m\u001b[0m\n\u001b[0m\u001b[0;32m   1431\u001b[0m \u001b[1;33m\u001b[0m\u001b[0m\n\u001b[0;32m   1432\u001b[0m             \u001b[0m_mask\u001b[0m \u001b[1;33m=\u001b[0m \u001b[0mma\u001b[0m\u001b[1;33m.\u001b[0m\u001b[0mgetmask\u001b[0m\u001b[1;33m(\u001b[0m\u001b[0mz\u001b[0m\u001b[1;33m)\u001b[0m\u001b[1;33m\u001b[0m\u001b[1;33m\u001b[0m\u001b[0m\n",
      "\u001b[1;32m~\\anaconda\\lib\\site-packages\\matplotlib\\contour.py\u001b[0m in \u001b[0;36m_contour_args\u001b[1;34m(self, args, kwargs)\u001b[0m\n\u001b[0;32m   1486\u001b[0m             \u001b[0margs\u001b[0m \u001b[1;33m=\u001b[0m \u001b[0margs\u001b[0m\u001b[1;33m[\u001b[0m\u001b[1;36m1\u001b[0m\u001b[1;33m:\u001b[0m\u001b[1;33m]\u001b[0m\u001b[1;33m\u001b[0m\u001b[1;33m\u001b[0m\u001b[0m\n\u001b[0;32m   1487\u001b[0m         \u001b[1;32melif\u001b[0m \u001b[0mNargs\u001b[0m \u001b[1;33m<=\u001b[0m \u001b[1;36m4\u001b[0m\u001b[1;33m:\u001b[0m\u001b[1;33m\u001b[0m\u001b[1;33m\u001b[0m\u001b[0m\n\u001b[1;32m-> 1488\u001b[1;33m             \u001b[0mx\u001b[0m\u001b[1;33m,\u001b[0m \u001b[0my\u001b[0m\u001b[1;33m,\u001b[0m \u001b[0mz\u001b[0m \u001b[1;33m=\u001b[0m \u001b[0mself\u001b[0m\u001b[1;33m.\u001b[0m\u001b[0m_check_xyz\u001b[0m\u001b[1;33m(\u001b[0m\u001b[0margs\u001b[0m\u001b[1;33m[\u001b[0m\u001b[1;33m:\u001b[0m\u001b[1;36m3\u001b[0m\u001b[1;33m]\u001b[0m\u001b[1;33m,\u001b[0m \u001b[0mkwargs\u001b[0m\u001b[1;33m)\u001b[0m\u001b[1;33m\u001b[0m\u001b[1;33m\u001b[0m\u001b[0m\n\u001b[0m\u001b[0;32m   1489\u001b[0m             \u001b[0margs\u001b[0m \u001b[1;33m=\u001b[0m \u001b[0margs\u001b[0m\u001b[1;33m[\u001b[0m\u001b[1;36m3\u001b[0m\u001b[1;33m:\u001b[0m\u001b[1;33m]\u001b[0m\u001b[1;33m\u001b[0m\u001b[1;33m\u001b[0m\u001b[0m\n\u001b[0;32m   1490\u001b[0m         \u001b[1;32melse\u001b[0m\u001b[1;33m:\u001b[0m\u001b[1;33m\u001b[0m\u001b[1;33m\u001b[0m\u001b[0m\n",
      "\u001b[1;32m~\\anaconda\\lib\\site-packages\\matplotlib\\contour.py\u001b[0m in \u001b[0;36m_check_xyz\u001b[1;34m(self, args, kwargs)\u001b[0m\n\u001b[0;32m   1517\u001b[0m \u001b[1;33m\u001b[0m\u001b[0m\n\u001b[0;32m   1518\u001b[0m         \u001b[1;32mif\u001b[0m \u001b[0mz\u001b[0m\u001b[1;33m.\u001b[0m\u001b[0mndim\u001b[0m \u001b[1;33m!=\u001b[0m \u001b[1;36m2\u001b[0m\u001b[1;33m:\u001b[0m\u001b[1;33m\u001b[0m\u001b[1;33m\u001b[0m\u001b[0m\n\u001b[1;32m-> 1519\u001b[1;33m             \u001b[1;32mraise\u001b[0m \u001b[0mTypeError\u001b[0m\u001b[1;33m(\u001b[0m\u001b[1;34mf\"Input z must be 2D, not {z.ndim}D\"\u001b[0m\u001b[1;33m)\u001b[0m\u001b[1;33m\u001b[0m\u001b[1;33m\u001b[0m\u001b[0m\n\u001b[0m\u001b[0;32m   1520\u001b[0m         \u001b[1;32mif\u001b[0m \u001b[0mz\u001b[0m\u001b[1;33m.\u001b[0m\u001b[0mshape\u001b[0m\u001b[1;33m[\u001b[0m\u001b[1;36m0\u001b[0m\u001b[1;33m]\u001b[0m \u001b[1;33m<\u001b[0m \u001b[1;36m2\u001b[0m \u001b[1;32mor\u001b[0m \u001b[0mz\u001b[0m\u001b[1;33m.\u001b[0m\u001b[0mshape\u001b[0m\u001b[1;33m[\u001b[0m\u001b[1;36m1\u001b[0m\u001b[1;33m]\u001b[0m \u001b[1;33m<\u001b[0m \u001b[1;36m2\u001b[0m\u001b[1;33m:\u001b[0m\u001b[1;33m\u001b[0m\u001b[1;33m\u001b[0m\u001b[0m\n\u001b[0;32m   1521\u001b[0m             raise TypeError(f\"Input z must be at least a (2, 2) shaped array, \"\n",
      "\u001b[1;31mTypeError\u001b[0m: Input z must be 2D, not 1D"
     ]
    },
    {
     "data": {
      "image/png": "[encoded data removed]",
      "text/plain": [
       "<Figure size 576x396 with 1 Axes>"
      ]
     },
     "metadata": {},
     "output_type": "display_data"
    }
   ],
   "source": [
    "import numpy as np\n",
    "import matplotlib.pyplot as plt\n",
    "from sklearn import svm, datasets\n",
    "# import some data to play with\n",
    "# import some data to play with\n",
    "X = np.array([[3, 1], [3, -1], [6, 1], [6, -1],[1,0],[0,1],[0,-1],[-1,0]])\n",
    "y = np.array([1, 1, 1, 1,-1,-1,-1,-1])#\n",
    "\n",
    "C = 1.0 # SVM regularization parameter\n",
    "svc = svm.SVC(kernel='linear', C=1,gamma=1).fit(X, y)\n",
    "# create a mesh to plot in\n",
    "x_min, x_max = X[:, 0].min() - 1, X[:, 0].max() + 1\n",
    "y_min, y_max = X[:, 1].min() - 1, X[:, 1].max() + 1\n",
    "h = (x_max / x_min)/100\n",
    "xx, yy = np.meshgrid(np.arange(x_min, x_max, h),\n",
    " np.arange(y_min, y_max, h))\n",
    "plt.subplot(1, 1, 1)\n",
    "prediction = svc.predict([[2,1]])\n",
    "print(prediction)\n",
    "\n",
    "\n",
    "plt.contourf(xx, yy, prediction, cmap=plt.cm.Paired, alpha=0.8)\n",
    "plt.scatter(X[:, 0], X[:, 1], c=y, cmap=plt.cm.Paired)\n",
    "plt.xlabel('x')\n",
    "plt.ylabel('y')\n",
    "plt.xlim(xx.min(), xx.max())\n",
    "plt.title('SVC with linear kernel')\n",
    "plt.show()"
   ]
  },
  {
   "cell_type": "code",
   "execution_count": null,
   "metadata": {},
   "outputs": [],
   "source": []
  },
  {
   "cell_type": "markdown",
   "metadata": {},
   "source": [
    "<h1>INFORMATION GAIN</h1>"
   ]
  },
  {
   "cell_type": "code",
   "execution_count": null,
   "metadata": {},
   "outputs": [],
   "source": [
    "import numpy as nm  \n",
    "import matplotlib.pyplot as mtp  \n",
    "import pandas as pd  \n",
    "dataset=pd.read_csv('info.csv')"
   ]
  },
  {
   "cell_type": "code",
   "execution_count": 4,
   "metadata": {},
   "outputs": [
    {
     "name": "stdout",
     "output_type": "stream",
     "text": [
      "   d1  d2  d3  d4 label\n",
      "0  A1  B1  C1  D1    E1\n",
      "1  A1  B1  C1  D2    E1\n",
      "2  A1  B2  C1  D1    E1\n",
      "3  A1  B3  C2  D1    E2\n",
      "4  A2  B1  C1  D1    E1\n",
      "5  A2  B3  C2  D2    E1\n",
      "6  A4  B2  C1  D1    E2\n",
      "7  A4  B3  C2  D1    E2\n",
      "8  A4  B3  C2  D2    E1\n",
      "9  A4  B2  C2  D1    E2\n"
     ]
    }
   ],
   "source": [
    "print(dataset)"
   ]
  },
  {
   "cell_type": "code",
   "execution_count": null,
   "metadata": {},
   "outputs": [],
   "source": []
  },
  {
   "cell_type": "code",
   "execution_count": 5,
   "metadata": {},
   "outputs": [
    {
     "name": "stdout",
     "output_type": "stream",
     "text": [
      "entropy: 0.971 bits\n"
     ]
    }
   ],
   "source": [
    "from math import log2\n",
    "# proportion of examples in each class\n",
    "classE1 = 60/100\n",
    "classE2 = 40/100\n",
    "# calculate entropy\n",
    "InfoD = -(classE1 * log2(classE1) + classE2 * log2(classE2))\n",
    "# print the result\n",
    "print('entropy: %.3f bits' % InfoD)"
   ]
  },
  {
   "cell_type": "code",
   "execution_count": 6,
   "metadata": {},
   "outputs": [],
   "source": [
    "categoryA1=4/10\n",
    "categoryA2=2/10\n",
    "categoryA4=4/10\n",
    "E1A1=3/4\n",
    "E2A1=1/4\n",
    "E1A2=2/2\n",
    "E1A4=1/4\n",
    "E2A4=3/4"
   ]
  },
  {
   "cell_type": "code",
   "execution_count": 7,
   "metadata": {},
   "outputs": [
    {
     "name": "stdout",
     "output_type": "stream",
     "text": [
      "0.6490224995673063\n"
     ]
    }
   ],
   "source": [
    "Infod1=categoryA1*(-E1A1*log2(E1A1)-E2A1*log2(E2A1))+categoryA2*(-E1A2*log2(E1A2))+categoryA4*(-E1A4*log2(E1A4)-E2A4*log2(E2A4))\n",
    "print(Infod1)"
   ]
  },
  {
   "cell_type": "code",
   "execution_count": 8,
   "metadata": {},
   "outputs": [
    {
     "name": "stdout",
     "output_type": "stream",
     "text": [
      "0.3219280948873623\n"
     ]
    }
   ],
   "source": [
    "gaind1=InfoD-Infod1\n",
    "print(gaind1)"
   ]
  },
  {
   "cell_type": "markdown",
   "metadata": {},
   "source": [
    "<h1>NEURAL NETWORK</h1>"
   ]
  },
  {
   "cell_type": "code",
   "execution_count": 9,
   "metadata": {},
   "outputs": [],
   "source": [
    "#given data\n",
    "#input\n",
    "import math\n",
    "x1 = 1\n",
    "x2 = -1\n",
    "x3 = 1\n",
    "x4=1\n",
    "x5=-1\n",
    "w1 =- 0.5\n",
    "w2 = 0.7\n",
    "w3 = -0.2\n",
    "w4 = 0.1\n",
    "w5 = 0.9\n",
    "\n",
    "th1 = 1\n",
    "th2 = -1\n",
    "\n",
    "learn_rate = 0.1\n"
   ]
  },
  {
   "cell_type": "code",
   "execution_count": 10,
   "metadata": {},
   "outputs": [
    {
     "name": "stdout",
     "output_type": "stream",
     "text": [
      "-2.1999999999999997\n"
     ]
    }
   ],
   "source": [
    "s=(x1*w1)+(x2*w2)+(x3*w3)+(x4*w4)+(x5*w5)\n",
    "print(s)"
   ]
  },
  {
   "cell_type": "code",
   "execution_count": 11,
   "metadata": {},
   "outputs": [
    {
     "name": "stdout",
     "output_type": "stream",
     "text": [
      "0.2\n"
     ]
    }
   ],
   "source": [
    "delta1=learn_rate*(th1-th2)*x1\n",
    "print(delta1)"
   ]
  },
  {
   "cell_type": "code",
   "execution_count": 12,
   "metadata": {},
   "outputs": [
    {
     "name": "stdout",
     "output_type": "stream",
     "text": [
      "-0.2\n"
     ]
    }
   ],
   "source": [
    "delta2=learn_rate*(th1-th2)*x2\n",
    "print(delta2)"
   ]
  },
  {
   "cell_type": "code",
   "execution_count": 13,
   "metadata": {},
   "outputs": [
    {
     "name": "stdout",
     "output_type": "stream",
     "text": [
      "0.2\n"
     ]
    }
   ],
   "source": [
    "delta3=learn_rate*(th1-th2)*x3\n",
    "print(delta3)"
   ]
  },
  {
   "cell_type": "code",
   "execution_count": 14,
   "metadata": {},
   "outputs": [
    {
     "name": "stdout",
     "output_type": "stream",
     "text": [
      "0.2\n"
     ]
    }
   ],
   "source": [
    "delta4=learn_rate*(th1-th2)*x4\n",
    "print(delta4)"
   ]
  },
  {
   "cell_type": "code",
   "execution_count": 15,
   "metadata": {},
   "outputs": [
    {
     "name": "stdout",
     "output_type": "stream",
     "text": [
      "-0.2\n"
     ]
    }
   ],
   "source": [
    "delta5=learn_rate*(th1-th2)*x5\n",
    "print(delta5)"
   ]
  },
  {
   "cell_type": "code",
   "execution_count": 16,
   "metadata": {},
   "outputs": [
    {
     "name": "stdout",
     "output_type": "stream",
     "text": [
      "-0.3\n"
     ]
    }
   ],
   "source": [
    "updatew1=w1+delta1\n",
    "print(updatew1)"
   ]
  },
  {
   "cell_type": "code",
   "execution_count": 17,
   "metadata": {},
   "outputs": [
    {
     "name": "stdout",
     "output_type": "stream",
     "text": [
      "0.49999999999999994\n"
     ]
    }
   ],
   "source": [
    "updatew2=w2+delta2\n",
    "print(updatew2)"
   ]
  },
  {
   "cell_type": "code",
   "execution_count": 18,
   "metadata": {},
   "outputs": [
    {
     "name": "stdout",
     "output_type": "stream",
     "text": [
      "0.0\n"
     ]
    }
   ],
   "source": [
    "updatew3=w3+delta3\n",
    "print(updatew3)"
   ]
  },
  {
   "cell_type": "code",
   "execution_count": 19,
   "metadata": {},
   "outputs": [
    {
     "name": "stdout",
     "output_type": "stream",
     "text": [
      "0.30000000000000004\n"
     ]
    }
   ],
   "source": [
    "updatew4=w4+delta4\n",
    "print(updatew4)"
   ]
  },
  {
   "cell_type": "code",
   "execution_count": 20,
   "metadata": {},
   "outputs": [
    {
     "name": "stdout",
     "output_type": "stream",
     "text": [
      "0.7\n"
     ]
    }
   ],
   "source": [
    "updatew5=w5+delta5\n",
    "print(updatew5)"
   ]
  },
  {
   "cell_type": "code",
   "execution_count": 21,
   "metadata": {},
   "outputs": [
    {
     "name": "stdout",
     "output_type": "stream",
     "text": [
      "-1.1999999999999997\n"
     ]
    }
   ],
   "source": [
    "newmodelweight=updatew1*x1+updatew2*x2+updatew3*x3+updatew4*x4+updatew5*x5\n",
    "print(newmodelweight)"
   ]
  },
  {
   "cell_type": "markdown",
   "metadata": {},
   "source": [
    "<h1>APRIORI</h1>"
   ]
  },
  {
   "cell_type": "code",
   "execution_count": 33,
   "metadata": {},
   "outputs": [],
   "source": [
    "from numpy import *\n",
    "import pandas as pd"
   ]
  },
  {
   "cell_type": "code",
   "execution_count": 34,
   "metadata": {},
   "outputs": [
    {
     "data": {
      "text/html": [
       "<div>\n",
       "<style scoped>\n",
       "    .dataframe tbody tr th:only-of-type {\n",
       "        vertical-align: middle;\n",
       "    }\n",
       "\n",
       "    .dataframe tbody tr th {\n",
       "        vertical-align: top;\n",
       "    }\n",
       "\n",
       "    .dataframe thead th {\n",
       "        text-align: right;\n",
       "    }\n",
       "</style>\n",
       "<table border=\"1\" class=\"dataframe\">\n",
       "  <thead>\n",
       "    <tr style=\"text-align: right;\">\n",
       "      <th></th>\n",
       "      <th>1</th>\n",
       "      <th>2</th>\n",
       "      <th>3</th>\n",
       "      <th>4</th>\n",
       "      <th>5</th>\n",
       "      <th>6</th>\n",
       "    </tr>\n",
       "  </thead>\n",
       "  <tbody>\n",
       "    <tr>\n",
       "      <th>0</th>\n",
       "      <td>M</td>\n",
       "      <td>O</td>\n",
       "      <td>N</td>\n",
       "      <td>K</td>\n",
       "      <td>E</td>\n",
       "      <td>Y</td>\n",
       "    </tr>\n",
       "    <tr>\n",
       "      <th>1</th>\n",
       "      <td>D</td>\n",
       "      <td>O</td>\n",
       "      <td>N</td>\n",
       "      <td>K</td>\n",
       "      <td>E</td>\n",
       "      <td>Y</td>\n",
       "    </tr>\n",
       "    <tr>\n",
       "      <th>2</th>\n",
       "      <td>M</td>\n",
       "      <td>A</td>\n",
       "      <td>K</td>\n",
       "      <td>E</td>\n",
       "      <td>NAN</td>\n",
       "      <td>NAN</td>\n",
       "    </tr>\n",
       "    <tr>\n",
       "      <th>3</th>\n",
       "      <td>M</td>\n",
       "      <td>U</td>\n",
       "      <td>C</td>\n",
       "      <td>K</td>\n",
       "      <td>Y</td>\n",
       "      <td>NAN</td>\n",
       "    </tr>\n",
       "  </tbody>\n",
       "</table>\n",
       "</div>"
      ],
      "text/plain": [
       "   1  2  3  4    5    6\n",
       "0  M  O  N  K    E    Y\n",
       "1  D  O  N  K    E    Y\n",
       "2  M  A  K  E  NAN  NAN\n",
       "3  M  U  C  K    Y  NAN"
      ]
     },
     "execution_count": 34,
     "metadata": {},
     "output_type": "execute_result"
    }
   ],
   "source": [
    "\n",
    "DF=pd.read_csv('apri.csv')\n",
    "DF"
   ]
  },
  {
   "cell_type": "code",
   "execution_count": 24,
   "metadata": {},
   "outputs": [],
   "source": [
    "#A=1\n",
    "#C=2\n",
    "#D=3\n",
    "#E=4\n",
    "#K=5\n",
    "#M=6\n",
    "#N=7\n",
    "#O=8\n",
    "#U=9\n",
    "#Y=10\n"
   ]
  },
  {
   "cell_type": "code",
   "execution_count": 35,
   "metadata": {},
   "outputs": [],
   "source": [
    "def loadDataSet():\n",
    "    \n",
    "     #return [[6,8,7,5,4,10], [3,8,7,5,4,10], [6,1,5,4], [ 6,9,2,5,10]]\n",
    "    return [['M','O','N','K','E','Y'],['D','O','N','K','E','Y'],['M','A','K','E'],['M','U','C','K','Y']]"
   ]
  },
  {
   "cell_type": "code",
   "execution_count": 36,
   "metadata": {},
   "outputs": [],
   "source": [
    "def createC1(dataSet):\n",
    "    C1 = []\n",
    "    for transaction in dataSet:\n",
    "        for item in transaction:\n",
    "            if not [item] in C1:\n",
    "                C1.append([item])\n",
    "                \n",
    "    C1.sort()\n",
    "    return list(map(frozenset, C1)) #use frozen set so we\n",
    "                                    #can use it as a key in a dict  "
   ]
  },
  {
   "cell_type": "code",
   "execution_count": 37,
   "metadata": {},
   "outputs": [],
   "source": [
    "def scanD(D, Ck, minSupport):\n",
    "    ssCnt = {}\n",
    "    for tid in D:\n",
    "        for can in Ck:\n",
    "            if can.issubset(tid):\n",
    "                if not can in ssCnt: ssCnt[can]=1\n",
    "                else: ssCnt[can] += 1\n",
    "    numItems = float(len(D))\n",
    "    retList = []\n",
    "    supportData = {}\n",
    "    for key in ssCnt:\n",
    "        support = ssCnt[key]/numItems\n",
    "        if support >= minSupport:\n",
    "            retList.insert(0,key)\n",
    "        supportData[key] = support\n",
    "    return retList, supportData"
   ]
  },
  {
   "cell_type": "code",
   "execution_count": 38,
   "metadata": {},
   "outputs": [
    {
     "data": {
      "text/plain": [
       "[['M', 'O', 'N', 'K', 'E', 'Y'],\n",
       " ['D', 'O', 'N', 'K', 'E', 'Y'],\n",
       " ['M', 'A', 'K', 'E'],\n",
       " ['M', 'U', 'C', 'K', 'Y']]"
      ]
     },
     "execution_count": 38,
     "metadata": {},
     "output_type": "execute_result"
    }
   ],
   "source": [
    "dataSet = loadDataSet()\n",
    "dataSet"
   ]
  },
  {
   "cell_type": "code",
   "execution_count": 8,
   "metadata": {},
   "outputs": [
    {
     "data": {
      "text/plain": [
       "[frozenset({'A'}),\n",
       " frozenset({'C'}),\n",
       " frozenset({'D'}),\n",
       " frozenset({'E'}),\n",
       " frozenset({'K'}),\n",
       " frozenset({'M'}),\n",
       " frozenset({'N'}),\n",
       " frozenset({'O'}),\n",
       " frozenset({'U'}),\n",
       " frozenset({'Y'})]"
      ]
     },
     "execution_count": 8,
     "metadata": {},
     "output_type": "execute_result"
    }
   ],
   "source": [
    "C1 = createC1(dataSet)\n",
    "C1"
   ]
  },
  {
   "cell_type": "code",
   "execution_count": 9,
   "metadata": {},
   "outputs": [
    {
     "data": {
      "text/plain": [
       "[{'E', 'K', 'M', 'N', 'O', 'Y'},\n",
       " {'D', 'E', 'K', 'N', 'O', 'Y'},\n",
       " {'A', 'E', 'K', 'M'},\n",
       " {'C', 'K', 'M', 'U', 'Y'}]"
      ]
     },
     "execution_count": 9,
     "metadata": {},
     "output_type": "execute_result"
    }
   ],
   "source": [
    "#D is a dataset in the setform.\n",
    "\n",
    "D = list(map(set,dataSet))\n",
    "D"
   ]
  },
  {
   "cell_type": "code",
   "execution_count": 10,
   "metadata": {},
   "outputs": [
    {
     "data": {
      "text/plain": [
       "[frozenset({'U'}),\n",
       " frozenset({'C'}),\n",
       " frozenset({'A'}),\n",
       " frozenset({'D'}),\n",
       " frozenset({'Y'}),\n",
       " frozenset({'O'}),\n",
       " frozenset({'N'}),\n",
       " frozenset({'M'}),\n",
       " frozenset({'K'}),\n",
       " frozenset({'E'})]"
      ]
     },
     "execution_count": 10,
     "metadata": {},
     "output_type": "execute_result"
    }
   ],
   "source": [
    "L1,suppDat0 = scanD(D,C1,.2)\n",
    "L1"
   ]
  },
  {
   "cell_type": "code",
   "execution_count": 11,
   "metadata": {},
   "outputs": [],
   "source": [
    "def aprioriGen(Lk, k): #creates Ck\n",
    "    retList = []\n",
    "    lenLk = len(Lk)\n",
    "    for i in range(lenLk):\n",
    "        for j in range(i+1, lenLk): \n",
    "            L1 = list(Lk[i])[:k-2]; L2 = list(Lk[j])[:k-2]\n",
    "            L1.sort(); L2.sort()\n",
    "            if L1==L2: #if first k-2 elements are equal\n",
    "                retList.append(Lk[i] | Lk[j]) #set union\n",
    "    return retList"
   ]
  },
  {
   "cell_type": "code",
   "execution_count": 12,
   "metadata": {},
   "outputs": [],
   "source": [
    "def apriori(dataSet, minSupport = .2):\n",
    "    C1 = createC1(dataSet)\n",
    "    D = list(map(set, dataSet))\n",
    "    L1, supportData = scanD(D, C1, minSupport)\n",
    "    L = [L1]\n",
    "    k = 2\n",
    "    while (len(L[k-2]) > 0):\n",
    "        Ck = aprioriGen(L[k-2], k)\n",
    "        Lk, supK = scanD(D, Ck, minSupport)#scan DB to get Lk\n",
    "        supportData.update(supK)\n",
    "        L.append(Lk)\n",
    "        k += 1\n",
    "    return L, supportData"
   ]
  },
  {
   "cell_type": "code",
   "execution_count": 15,
   "metadata": {},
   "outputs": [
    {
     "data": {
      "text/plain": [
       "[[frozenset({'U'}),\n",
       "  frozenset({'C'}),\n",
       "  frozenset({'A'}),\n",
       "  frozenset({'D'}),\n",
       "  frozenset({'Y'}),\n",
       "  frozenset({'O'}),\n",
       "  frozenset({'N'}),\n",
       "  frozenset({'M'}),\n",
       "  frozenset({'K'}),\n",
       "  frozenset({'E'})],\n",
       " [frozenset({'C', 'K'}),\n",
       "  frozenset({'C', 'M'}),\n",
       "  frozenset({'C', 'Y'}),\n",
       "  frozenset({'K', 'U'}),\n",
       "  frozenset({'M', 'U'}),\n",
       "  frozenset({'U', 'Y'}),\n",
       "  frozenset({'C', 'U'}),\n",
       "  frozenset({'A', 'E'}),\n",
       "  frozenset({'A', 'K'}),\n",
       "  frozenset({'A', 'M'}),\n",
       "  frozenset({'D', 'E'}),\n",
       "  frozenset({'D', 'K'}),\n",
       "  frozenset({'D', 'N'}),\n",
       "  frozenset({'D', 'O'}),\n",
       "  frozenset({'D', 'Y'}),\n",
       "  frozenset({'E', 'K'}),\n",
       "  frozenset({'E', 'M'}),\n",
       "  frozenset({'K', 'M'}),\n",
       "  frozenset({'E', 'N'}),\n",
       "  frozenset({'K', 'N'}),\n",
       "  frozenset({'M', 'N'}),\n",
       "  frozenset({'E', 'O'}),\n",
       "  frozenset({'K', 'O'}),\n",
       "  frozenset({'M', 'O'}),\n",
       "  frozenset({'N', 'O'}),\n",
       "  frozenset({'E', 'Y'}),\n",
       "  frozenset({'K', 'Y'}),\n",
       "  frozenset({'M', 'Y'}),\n",
       "  frozenset({'N', 'Y'}),\n",
       "  frozenset({'O', 'Y'})],\n",
       " [frozenset({'C', 'U', 'Y'}),\n",
       "  frozenset({'C', 'M', 'U'}),\n",
       "  frozenset({'M', 'U', 'Y'}),\n",
       "  frozenset({'C', 'K', 'U'}),\n",
       "  frozenset({'K', 'U', 'Y'}),\n",
       "  frozenset({'K', 'M', 'U'}),\n",
       "  frozenset({'C', 'M', 'Y'}),\n",
       "  frozenset({'C', 'K', 'Y'}),\n",
       "  frozenset({'C', 'K', 'M'}),\n",
       "  frozenset({'A', 'K', 'M'}),\n",
       "  frozenset({'A', 'E', 'K'}),\n",
       "  frozenset({'A', 'E', 'M'}),\n",
       "  frozenset({'D', 'N', 'Y'}),\n",
       "  frozenset({'D', 'K', 'Y'}),\n",
       "  frozenset({'D', 'E', 'Y'}),\n",
       "  frozenset({'D', 'O', 'Y'}),\n",
       "  frozenset({'D', 'N', 'O'}),\n",
       "  frozenset({'D', 'K', 'O'}),\n",
       "  frozenset({'D', 'E', 'O'}),\n",
       "  frozenset({'D', 'E', 'N'}),\n",
       "  frozenset({'D', 'K', 'N'}),\n",
       "  frozenset({'D', 'E', 'K'}),\n",
       "  frozenset({'M', 'N', 'Y'}),\n",
       "  frozenset({'K', 'N', 'Y'}),\n",
       "  frozenset({'K', 'M', 'Y'}),\n",
       "  frozenset({'E', 'N', 'Y'}),\n",
       "  frozenset({'E', 'M', 'Y'}),\n",
       "  frozenset({'E', 'K', 'Y'}),\n",
       "  frozenset({'N', 'O', 'Y'}),\n",
       "  frozenset({'M', 'O', 'Y'}),\n",
       "  frozenset({'M', 'N', 'O'}),\n",
       "  frozenset({'K', 'O', 'Y'}),\n",
       "  frozenset({'K', 'N', 'O'}),\n",
       "  frozenset({'K', 'M', 'O'}),\n",
       "  frozenset({'E', 'O', 'Y'}),\n",
       "  frozenset({'E', 'N', 'O'}),\n",
       "  frozenset({'E', 'M', 'O'}),\n",
       "  frozenset({'E', 'K', 'O'}),\n",
       "  frozenset({'E', 'M', 'N'}),\n",
       "  frozenset({'K', 'M', 'N'}),\n",
       "  frozenset({'E', 'K', 'N'}),\n",
       "  frozenset({'E', 'K', 'M'})],\n",
       " [frozenset({'C', 'K', 'M', 'Y'}),\n",
       "  frozenset({'C', 'K', 'M', 'U'}),\n",
       "  frozenset({'K', 'M', 'U', 'Y'}),\n",
       "  frozenset({'C', 'K', 'U', 'Y'}),\n",
       "  frozenset({'C', 'M', 'U', 'Y'}),\n",
       "  frozenset({'A', 'E', 'K', 'M'}),\n",
       "  frozenset({'D', 'E', 'K', 'N'}),\n",
       "  frozenset({'D', 'E', 'K', 'O'}),\n",
       "  frozenset({'D', 'K', 'N', 'O'}),\n",
       "  frozenset({'D', 'E', 'N', 'O'}),\n",
       "  frozenset({'D', 'E', 'O', 'Y'}),\n",
       "  frozenset({'D', 'K', 'O', 'Y'}),\n",
       "  frozenset({'D', 'N', 'O', 'Y'}),\n",
       "  frozenset({'D', 'E', 'K', 'Y'}),\n",
       "  frozenset({'D', 'E', 'N', 'Y'}),\n",
       "  frozenset({'D', 'K', 'N', 'Y'}),\n",
       "  frozenset({'E', 'K', 'M', 'N'}),\n",
       "  frozenset({'E', 'K', 'M', 'O'}),\n",
       "  frozenset({'E', 'K', 'N', 'O'}),\n",
       "  frozenset({'K', 'M', 'N', 'O'}),\n",
       "  frozenset({'E', 'K', 'O', 'Y'}),\n",
       "  frozenset({'E', 'M', 'N', 'O'}),\n",
       "  frozenset({'E', 'M', 'O', 'Y'}),\n",
       "  frozenset({'K', 'M', 'O', 'Y'}),\n",
       "  frozenset({'E', 'N', 'O', 'Y'}),\n",
       "  frozenset({'K', 'N', 'O', 'Y'}),\n",
       "  frozenset({'M', 'N', 'O', 'Y'}),\n",
       "  frozenset({'E', 'K', 'M', 'Y'}),\n",
       "  frozenset({'E', 'K', 'N', 'Y'}),\n",
       "  frozenset({'E', 'M', 'N', 'Y'}),\n",
       "  frozenset({'K', 'M', 'N', 'Y'})],\n",
       " [frozenset({'C', 'K', 'M', 'U', 'Y'}),\n",
       "  frozenset({'D', 'E', 'N', 'O', 'Y'}),\n",
       "  frozenset({'D', 'K', 'N', 'O', 'Y'}),\n",
       "  frozenset({'D', 'E', 'K', 'N', 'O'}),\n",
       "  frozenset({'D', 'E', 'K', 'O', 'Y'}),\n",
       "  frozenset({'D', 'E', 'K', 'N', 'Y'}),\n",
       "  frozenset({'E', 'K', 'M', 'N', 'Y'}),\n",
       "  frozenset({'E', 'M', 'N', 'O', 'Y'}),\n",
       "  frozenset({'E', 'K', 'M', 'O', 'Y'}),\n",
       "  frozenset({'K', 'M', 'N', 'O', 'Y'}),\n",
       "  frozenset({'E', 'K', 'N', 'O', 'Y'}),\n",
       "  frozenset({'E', 'K', 'M', 'N', 'O'})],\n",
       " [frozenset({'D', 'E', 'K', 'N', 'O', 'Y'}),\n",
       "  frozenset({'E', 'K', 'M', 'N', 'O', 'Y'})],\n",
       " []]"
      ]
     },
     "execution_count": 15,
     "metadata": {},
     "output_type": "execute_result"
    }
   ],
   "source": [
    "L,suppData = apriori(dataSet)\n",
    "L"
   ]
  },
  {
   "cell_type": "code",
   "execution_count": 16,
   "metadata": {},
   "outputs": [
    {
     "data": {
      "text/plain": [
       "[frozenset({'U'}),\n",
       " frozenset({'C'}),\n",
       " frozenset({'A'}),\n",
       " frozenset({'D'}),\n",
       " frozenset({'Y'}),\n",
       " frozenset({'O'}),\n",
       " frozenset({'N'}),\n",
       " frozenset({'M'}),\n",
       " frozenset({'K'}),\n",
       " frozenset({'E'})]"
      ]
     },
     "execution_count": 16,
     "metadata": {},
     "output_type": "execute_result"
    }
   ],
   "source": [
    "L[0]"
   ]
  },
  {
   "cell_type": "code",
   "execution_count": 17,
   "metadata": {},
   "outputs": [
    {
     "data": {
      "text/plain": [
       "[frozenset({'C', 'K'}),\n",
       " frozenset({'C', 'M'}),\n",
       " frozenset({'C', 'Y'}),\n",
       " frozenset({'K', 'U'}),\n",
       " frozenset({'M', 'U'}),\n",
       " frozenset({'U', 'Y'}),\n",
       " frozenset({'C', 'U'}),\n",
       " frozenset({'A', 'E'}),\n",
       " frozenset({'A', 'K'}),\n",
       " frozenset({'A', 'M'}),\n",
       " frozenset({'D', 'E'}),\n",
       " frozenset({'D', 'K'}),\n",
       " frozenset({'D', 'N'}),\n",
       " frozenset({'D', 'O'}),\n",
       " frozenset({'D', 'Y'}),\n",
       " frozenset({'E', 'K'}),\n",
       " frozenset({'E', 'M'}),\n",
       " frozenset({'K', 'M'}),\n",
       " frozenset({'E', 'N'}),\n",
       " frozenset({'K', 'N'}),\n",
       " frozenset({'M', 'N'}),\n",
       " frozenset({'E', 'O'}),\n",
       " frozenset({'K', 'O'}),\n",
       " frozenset({'M', 'O'}),\n",
       " frozenset({'N', 'O'}),\n",
       " frozenset({'E', 'Y'}),\n",
       " frozenset({'K', 'Y'}),\n",
       " frozenset({'M', 'Y'}),\n",
       " frozenset({'N', 'Y'}),\n",
       " frozenset({'O', 'Y'})]"
      ]
     },
     "execution_count": 17,
     "metadata": {},
     "output_type": "execute_result"
    }
   ],
   "source": [
    "L[1]"
   ]
  },
  {
   "cell_type": "code",
   "execution_count": 18,
   "metadata": {},
   "outputs": [
    {
     "data": {
      "text/plain": [
       "[frozenset({'C', 'U', 'Y'}),\n",
       " frozenset({'C', 'M', 'U'}),\n",
       " frozenset({'M', 'U', 'Y'}),\n",
       " frozenset({'C', 'K', 'U'}),\n",
       " frozenset({'K', 'U', 'Y'}),\n",
       " frozenset({'K', 'M', 'U'}),\n",
       " frozenset({'C', 'M', 'Y'}),\n",
       " frozenset({'C', 'K', 'Y'}),\n",
       " frozenset({'C', 'K', 'M'}),\n",
       " frozenset({'A', 'K', 'M'}),\n",
       " frozenset({'A', 'E', 'K'}),\n",
       " frozenset({'A', 'E', 'M'}),\n",
       " frozenset({'D', 'N', 'Y'}),\n",
       " frozenset({'D', 'K', 'Y'}),\n",
       " frozenset({'D', 'E', 'Y'}),\n",
       " frozenset({'D', 'O', 'Y'}),\n",
       " frozenset({'D', 'N', 'O'}),\n",
       " frozenset({'D', 'K', 'O'}),\n",
       " frozenset({'D', 'E', 'O'}),\n",
       " frozenset({'D', 'E', 'N'}),\n",
       " frozenset({'D', 'K', 'N'}),\n",
       " frozenset({'D', 'E', 'K'}),\n",
       " frozenset({'M', 'N', 'Y'}),\n",
       " frozenset({'K', 'N', 'Y'}),\n",
       " frozenset({'K', 'M', 'Y'}),\n",
       " frozenset({'E', 'N', 'Y'}),\n",
       " frozenset({'E', 'M', 'Y'}),\n",
       " frozenset({'E', 'K', 'Y'}),\n",
       " frozenset({'N', 'O', 'Y'}),\n",
       " frozenset({'M', 'O', 'Y'}),\n",
       " frozenset({'M', 'N', 'O'}),\n",
       " frozenset({'K', 'O', 'Y'}),\n",
       " frozenset({'K', 'N', 'O'}),\n",
       " frozenset({'K', 'M', 'O'}),\n",
       " frozenset({'E', 'O', 'Y'}),\n",
       " frozenset({'E', 'N', 'O'}),\n",
       " frozenset({'E', 'M', 'O'}),\n",
       " frozenset({'E', 'K', 'O'}),\n",
       " frozenset({'E', 'M', 'N'}),\n",
       " frozenset({'K', 'M', 'N'}),\n",
       " frozenset({'E', 'K', 'N'}),\n",
       " frozenset({'E', 'K', 'M'})]"
      ]
     },
     "execution_count": 18,
     "metadata": {},
     "output_type": "execute_result"
    }
   ],
   "source": [
    "L[2]"
   ]
  },
  {
   "cell_type": "code",
   "execution_count": 19,
   "metadata": {},
   "outputs": [
    {
     "data": {
      "text/plain": [
       "[frozenset({'C', 'K', 'M', 'Y'}),\n",
       " frozenset({'C', 'K', 'M', 'U'}),\n",
       " frozenset({'K', 'M', 'U', 'Y'}),\n",
       " frozenset({'C', 'K', 'U', 'Y'}),\n",
       " frozenset({'C', 'M', 'U', 'Y'}),\n",
       " frozenset({'A', 'E', 'K', 'M'}),\n",
       " frozenset({'D', 'E', 'K', 'N'}),\n",
       " frozenset({'D', 'E', 'K', 'O'}),\n",
       " frozenset({'D', 'K', 'N', 'O'}),\n",
       " frozenset({'D', 'E', 'N', 'O'}),\n",
       " frozenset({'D', 'E', 'O', 'Y'}),\n",
       " frozenset({'D', 'K', 'O', 'Y'}),\n",
       " frozenset({'D', 'N', 'O', 'Y'}),\n",
       " frozenset({'D', 'E', 'K', 'Y'}),\n",
       " frozenset({'D', 'E', 'N', 'Y'}),\n",
       " frozenset({'D', 'K', 'N', 'Y'}),\n",
       " frozenset({'E', 'K', 'M', 'N'}),\n",
       " frozenset({'E', 'K', 'M', 'O'}),\n",
       " frozenset({'E', 'K', 'N', 'O'}),\n",
       " frozenset({'K', 'M', 'N', 'O'}),\n",
       " frozenset({'E', 'K', 'O', 'Y'}),\n",
       " frozenset({'E', 'M', 'N', 'O'}),\n",
       " frozenset({'E', 'M', 'O', 'Y'}),\n",
       " frozenset({'K', 'M', 'O', 'Y'}),\n",
       " frozenset({'E', 'N', 'O', 'Y'}),\n",
       " frozenset({'K', 'N', 'O', 'Y'}),\n",
       " frozenset({'M', 'N', 'O', 'Y'}),\n",
       " frozenset({'E', 'K', 'M', 'Y'}),\n",
       " frozenset({'E', 'K', 'N', 'Y'}),\n",
       " frozenset({'E', 'M', 'N', 'Y'}),\n",
       " frozenset({'K', 'M', 'N', 'Y'})]"
      ]
     },
     "execution_count": 19,
     "metadata": {},
     "output_type": "execute_result"
    }
   ],
   "source": [
    "L[3]"
   ]
  },
  {
   "cell_type": "code",
   "execution_count": 20,
   "metadata": {},
   "outputs": [
    {
     "data": {
      "text/plain": [
       "[frozenset({'C', 'K', 'M', 'U', 'Y'}),\n",
       " frozenset({'D', 'E', 'N', 'O', 'Y'}),\n",
       " frozenset({'D', 'K', 'N', 'O', 'Y'}),\n",
       " frozenset({'D', 'E', 'K', 'N', 'O'}),\n",
       " frozenset({'D', 'E', 'K', 'O', 'Y'}),\n",
       " frozenset({'D', 'E', 'K', 'N', 'Y'}),\n",
       " frozenset({'E', 'K', 'M', 'N', 'Y'}),\n",
       " frozenset({'E', 'M', 'N', 'O', 'Y'}),\n",
       " frozenset({'E', 'K', 'M', 'O', 'Y'}),\n",
       " frozenset({'K', 'M', 'N', 'O', 'Y'}),\n",
       " frozenset({'E', 'K', 'N', 'O', 'Y'}),\n",
       " frozenset({'E', 'K', 'M', 'N', 'O'})]"
      ]
     },
     "execution_count": 20,
     "metadata": {},
     "output_type": "execute_result"
    }
   ],
   "source": [
    "L[4]"
   ]
  },
  {
   "cell_type": "code",
   "execution_count": 21,
   "metadata": {},
   "outputs": [
    {
     "data": {
      "text/plain": [
       "[frozenset({'D', 'E', 'K', 'N', 'O', 'Y'}),\n",
       " frozenset({'E', 'K', 'M', 'N', 'O', 'Y'})]"
      ]
     },
     "execution_count": 21,
     "metadata": {},
     "output_type": "execute_result"
    }
   ],
   "source": [
    "L[5]"
   ]
  },
  {
   "cell_type": "markdown",
   "metadata": {},
   "source": [
    "<h1>confidence finding(extra)</h1>"
   ]
  },
  {
   "cell_type": "code",
   "execution_count": 52,
   "metadata": {},
   "outputs": [],
   "source": [
    "def generateRules(L, supportData, minConf=0.7):  #supportData is a dict coming from scanD\n",
    "    bigRuleList = []\n",
    "    for i in range(1, len(L)):#only get the sets with two or more items\n",
    "        for freqSet in L[i]:\n",
    "            H1 = [frozenset([item]) for item in freqSet]\n",
    "            if (i > 1):\n",
    "                rulesFromConseq(freqSet, H1, supportData, bigRuleList, minConf)\n",
    "            else:\n",
    "                calcConf(freqSet, H1, supportData, bigRuleList, minConf)\n",
    "    return bigRuleList         "
   ]
  },
  {
   "cell_type": "code",
   "execution_count": null,
   "metadata": {},
   "outputs": [],
   "source": []
  },
  {
   "cell_type": "code",
   "execution_count": 53,
   "metadata": {},
   "outputs": [],
   "source": [
    "def calcConf(freqSet, H, supportData, brl, minConf=0.7):\n",
    "    prunedH = [] #create new list to return\n",
    "    for conseq in H:\n",
    "        conf = supportData[freqSet]/supportData[freqSet-conseq] #calc confidence\n",
    "        if conf >= minConf: \n",
    "            print (freqSet-conseq,'-->',conseq,'conf:',conf)\n",
    "            brl.append((freqSet-conseq, conseq, conf))\n",
    "            prunedH.append(conseq)\n",
    "    return prunedH"
   ]
  },
  {
   "cell_type": "code",
   "execution_count": 56,
   "metadata": {},
   "outputs": [],
   "source": [
    "def rulesFromConseq(freqSet, H, supportData, brl, minConf=0.5):\n",
    "    m = len(H[0])\n",
    "    if (len(freqSet) > (m + 1)): #try further merging\n",
    "        Hmp1 = aprioriGen(H, m+1)#create Hm+1 new candidates\n",
    "        Hmp1 = calcConf(freqSet, Hmp1, supportData, brl, minConf)\n",
    "        if (len(Hmp1) > 1):    #need at least two sets to merge\n",
    "            rulesFromConseq(freqSet, Hmp1, supportData, brl, minConf)"
   ]
  },
  {
   "cell_type": "code",
   "execution_count": 57,
   "metadata": {},
   "outputs": [],
   "source": [
    "L,suppData= apriori(dataSet,minSupport=0.2)"
   ]
  },
  {
   "cell_type": "code",
   "execution_count": 58,
   "metadata": {},
   "outputs": [
    {
     "name": "stdout",
     "output_type": "stream",
     "text": [
      "frozenset({'C'}) --> frozenset({'K'}) conf: 1.0\n",
      "frozenset({'C'}) --> frozenset({'M'}) conf: 1.0\n",
      "frozenset({'C'}) --> frozenset({'Y'}) conf: 1.0\n",
      "frozenset({'U'}) --> frozenset({'K'}) conf: 1.0\n",
      "frozenset({'U'}) --> frozenset({'M'}) conf: 1.0\n",
      "frozenset({'U'}) --> frozenset({'Y'}) conf: 1.0\n",
      "frozenset({'U'}) --> frozenset({'C'}) conf: 1.0\n",
      "frozenset({'C'}) --> frozenset({'U'}) conf: 1.0\n",
      "frozenset({'A'}) --> frozenset({'E'}) conf: 1.0\n",
      "frozenset({'A'}) --> frozenset({'K'}) conf: 1.0\n",
      "frozenset({'A'}) --> frozenset({'M'}) conf: 1.0\n",
      "frozenset({'D'}) --> frozenset({'E'}) conf: 1.0\n",
      "frozenset({'D'}) --> frozenset({'K'}) conf: 1.0\n",
      "frozenset({'N'}) --> frozenset({'D'}) conf: 0.5\n",
      "frozenset({'D'}) --> frozenset({'N'}) conf: 1.0\n",
      "frozenset({'D'}) --> frozenset({'O'}) conf: 1.0\n",
      "frozenset({'O'}) --> frozenset({'D'}) conf: 0.5\n",
      "frozenset({'D'}) --> frozenset({'Y'}) conf: 1.0\n",
      "frozenset({'K'}) --> frozenset({'E'}) conf: 0.75\n",
      "frozenset({'E'}) --> frozenset({'K'}) conf: 1.0\n",
      "frozenset({'M'}) --> frozenset({'E'}) conf: 0.6666666666666666\n",
      "frozenset({'E'}) --> frozenset({'M'}) conf: 0.6666666666666666\n",
      "frozenset({'M'}) --> frozenset({'K'}) conf: 1.0\n",
      "frozenset({'K'}) --> frozenset({'M'}) conf: 0.75\n",
      "frozenset({'N'}) --> frozenset({'E'}) conf: 1.0\n",
      "frozenset({'E'}) --> frozenset({'N'}) conf: 0.6666666666666666\n",
      "frozenset({'N'}) --> frozenset({'K'}) conf: 1.0\n",
      "frozenset({'K'}) --> frozenset({'N'}) conf: 0.5\n",
      "frozenset({'N'}) --> frozenset({'M'}) conf: 0.5\n",
      "frozenset({'E'}) --> frozenset({'O'}) conf: 0.6666666666666666\n",
      "frozenset({'O'}) --> frozenset({'E'}) conf: 1.0\n",
      "frozenset({'K'}) --> frozenset({'O'}) conf: 0.5\n",
      "frozenset({'O'}) --> frozenset({'K'}) conf: 1.0\n",
      "frozenset({'O'}) --> frozenset({'M'}) conf: 0.5\n",
      "frozenset({'N'}) --> frozenset({'O'}) conf: 1.0\n",
      "frozenset({'O'}) --> frozenset({'N'}) conf: 1.0\n",
      "frozenset({'Y'}) --> frozenset({'E'}) conf: 0.6666666666666666\n",
      "frozenset({'E'}) --> frozenset({'Y'}) conf: 0.6666666666666666\n",
      "frozenset({'Y'}) --> frozenset({'K'}) conf: 1.0\n",
      "frozenset({'K'}) --> frozenset({'Y'}) conf: 0.75\n",
      "frozenset({'Y'}) --> frozenset({'M'}) conf: 0.6666666666666666\n",
      "frozenset({'M'}) --> frozenset({'Y'}) conf: 0.6666666666666666\n",
      "frozenset({'N'}) --> frozenset({'Y'}) conf: 1.0\n",
      "frozenset({'Y'}) --> frozenset({'N'}) conf: 0.6666666666666666\n",
      "frozenset({'Y'}) --> frozenset({'O'}) conf: 0.6666666666666666\n",
      "frozenset({'O'}) --> frozenset({'Y'}) conf: 1.0\n",
      "frozenset({'U'}) --> frozenset({'M', 'Y'}) conf: 1.0\n",
      "frozenset({'U'}) --> frozenset({'K', 'Y'}) conf: 1.0\n",
      "frozenset({'U'}) --> frozenset({'K', 'M'}) conf: 1.0\n",
      "frozenset({'U'}) --> frozenset({'Y', 'C'}) conf: 1.0\n",
      "frozenset({'C'}) --> frozenset({'Y', 'U'}) conf: 1.0\n",
      "frozenset({'C'}) --> frozenset({'M', 'Y'}) conf: 1.0\n",
      "frozenset({'U'}) --> frozenset({'M', 'C'}) conf: 1.0\n",
      "frozenset({'C'}) --> frozenset({'M', 'U'}) conf: 1.0\n",
      "frozenset({'C'}) --> frozenset({'K', 'Y'}) conf: 1.0\n",
      "frozenset({'C'}) --> frozenset({'K', 'M'}) conf: 1.0\n",
      "frozenset({'U'}) --> frozenset({'K', 'C'}) conf: 1.0\n",
      "frozenset({'C'}) --> frozenset({'K', 'U'}) conf: 1.0\n",
      "frozenset({'A'}) --> frozenset({'K', 'M'}) conf: 1.0\n",
      "frozenset({'A'}) --> frozenset({'E', 'M'}) conf: 1.0\n",
      "frozenset({'A'}) --> frozenset({'E', 'K'}) conf: 1.0\n",
      "frozenset({'N'}) --> frozenset({'D', 'Y'}) conf: 0.5\n",
      "frozenset({'D'}) --> frozenset({'Y', 'N'}) conf: 1.0\n",
      "frozenset({'D'}) --> frozenset({'O', 'Y'}) conf: 1.0\n",
      "frozenset({'O'}) --> frozenset({'D', 'Y'}) conf: 0.5\n",
      "frozenset({'N'}) --> frozenset({'O', 'D'}) conf: 0.5\n",
      "frozenset({'D'}) --> frozenset({'O', 'N'}) conf: 1.0\n",
      "frozenset({'O'}) --> frozenset({'D', 'N'}) conf: 0.5\n",
      "frozenset({'D'}) --> frozenset({'O', 'K'}) conf: 1.0\n",
      "frozenset({'O'}) --> frozenset({'K', 'D'}) conf: 0.5\n",
      "frozenset({'D'}) --> frozenset({'O', 'E'}) conf: 1.0\n",
      "frozenset({'O'}) --> frozenset({'E', 'D'}) conf: 0.5\n",
      "frozenset({'D'}) --> frozenset({'K', 'Y'}) conf: 1.0\n",
      "frozenset({'N'}) --> frozenset({'K', 'D'}) conf: 0.5\n",
      "frozenset({'D'}) --> frozenset({'K', 'N'}) conf: 1.0\n",
      "frozenset({'D'}) --> frozenset({'E', 'Y'}) conf: 1.0\n",
      "frozenset({'N'}) --> frozenset({'E', 'D'}) conf: 0.5\n",
      "frozenset({'D'}) --> frozenset({'E', 'N'}) conf: 1.0\n",
      "frozenset({'D'}) --> frozenset({'E', 'K'}) conf: 1.0\n",
      "frozenset({'N'}) --> frozenset({'O', 'Y'}) conf: 1.0\n",
      "frozenset({'Y'}) --> frozenset({'O', 'N'}) conf: 0.6666666666666666\n",
      "frozenset({'O'}) --> frozenset({'Y', 'N'}) conf: 1.0\n",
      "frozenset({'O'}) --> frozenset({'M', 'Y'}) conf: 0.5\n",
      "frozenset({'N'}) --> frozenset({'O', 'M'}) conf: 0.5\n",
      "frozenset({'O'}) --> frozenset({'M', 'N'}) conf: 0.5\n",
      "frozenset({'Y'}) --> frozenset({'O', 'K'}) conf: 0.6666666666666666\n",
      "frozenset({'K'}) --> frozenset({'O', 'Y'}) conf: 0.5\n",
      "frozenset({'O'}) --> frozenset({'K', 'Y'}) conf: 1.0\n",
      "frozenset({'N'}) --> frozenset({'O', 'K'}) conf: 1.0\n",
      "frozenset({'K'}) --> frozenset({'O', 'N'}) conf: 0.5\n",
      "frozenset({'O'}) --> frozenset({'K', 'N'}) conf: 1.0\n",
      "frozenset({'O'}) --> frozenset({'K', 'M'}) conf: 0.5\n",
      "frozenset({'E'}) --> frozenset({'O', 'Y'}) conf: 0.6666666666666666\n",
      "frozenset({'Y'}) --> frozenset({'O', 'E'}) conf: 0.6666666666666666\n",
      "frozenset({'O'}) --> frozenset({'E', 'Y'}) conf: 1.0\n",
      "frozenset({'E'}) --> frozenset({'O', 'N'}) conf: 0.6666666666666666\n",
      "frozenset({'N'}) --> frozenset({'O', 'E'}) conf: 1.0\n",
      "frozenset({'O'}) --> frozenset({'E', 'N'}) conf: 1.0\n",
      "frozenset({'O'}) --> frozenset({'E', 'M'}) conf: 0.5\n",
      "frozenset({'E'}) --> frozenset({'O', 'K'}) conf: 0.6666666666666666\n",
      "frozenset({'K'}) --> frozenset({'O', 'E'}) conf: 0.5\n",
      "frozenset({'O'}) --> frozenset({'E', 'K'}) conf: 1.0\n",
      "frozenset({'N'}) --> frozenset({'M', 'Y'}) conf: 0.5\n",
      "frozenset({'N'}) --> frozenset({'K', 'Y'}) conf: 1.0\n",
      "frozenset({'Y'}) --> frozenset({'K', 'N'}) conf: 0.6666666666666666\n",
      "frozenset({'K'}) --> frozenset({'Y', 'N'}) conf: 0.5\n",
      "frozenset({'N'}) --> frozenset({'E', 'Y'}) conf: 1.0\n",
      "frozenset({'Y'}) --> frozenset({'E', 'N'}) conf: 0.6666666666666666\n",
      "frozenset({'E'}) --> frozenset({'Y', 'N'}) conf: 0.6666666666666666\n",
      "frozenset({'Y'}) --> frozenset({'K', 'M'}) conf: 0.6666666666666666\n",
      "frozenset({'M'}) --> frozenset({'K', 'Y'}) conf: 0.6666666666666666\n",
      "frozenset({'K'}) --> frozenset({'Y', 'M'}) conf: 0.5\n",
      "frozenset({'N'}) --> frozenset({'K', 'M'}) conf: 0.5\n",
      "frozenset({'N'}) --> frozenset({'E', 'M'}) conf: 0.5\n",
      "frozenset({'Y'}) --> frozenset({'E', 'K'}) conf: 0.6666666666666666\n",
      "frozenset({'K'}) --> frozenset({'E', 'Y'}) conf: 0.5\n",
      "frozenset({'E'}) --> frozenset({'K', 'Y'}) conf: 0.6666666666666666\n",
      "frozenset({'N'}) --> frozenset({'E', 'K'}) conf: 1.0\n",
      "frozenset({'K'}) --> frozenset({'E', 'N'}) conf: 0.5\n",
      "frozenset({'E'}) --> frozenset({'K', 'N'}) conf: 0.6666666666666666\n",
      "frozenset({'M'}) --> frozenset({'E', 'K'}) conf: 0.6666666666666666\n",
      "frozenset({'K'}) --> frozenset({'E', 'M'}) conf: 0.5\n",
      "frozenset({'E'}) --> frozenset({'K', 'M'}) conf: 0.6666666666666666\n",
      "frozenset({'M', 'C'}) --> frozenset({'K', 'Y'}) conf: 1.0\n",
      "frozenset({'M', 'Y'}) --> frozenset({'K', 'C'}) conf: 0.5\n",
      "frozenset({'Y', 'C'}) --> frozenset({'K', 'M'}) conf: 1.0\n",
      "frozenset({'K', 'C'}) --> frozenset({'M', 'Y'}) conf: 1.0\n",
      "frozenset({'C'}) --> frozenset({'M', 'K', 'Y'}) conf: 1.0\n",
      "frozenset({'M', 'U'}) --> frozenset({'K', 'Y'}) conf: 1.0\n",
      "frozenset({'Y', 'U'}) --> frozenset({'K', 'M'}) conf: 1.0\n",
      "frozenset({'M', 'Y'}) --> frozenset({'K', 'U'}) conf: 0.5\n",
      "frozenset({'K', 'U'}) --> frozenset({'M', 'Y'}) conf: 1.0\n",
      "frozenset({'U'}) --> frozenset({'M', 'K', 'Y'}) conf: 1.0\n",
      "frozenset({'M', 'U'}) --> frozenset({'K', 'C'}) conf: 1.0\n",
      "frozenset({'C', 'U'}) --> frozenset({'K', 'M'}) conf: 1.0\n",
      "frozenset({'M', 'C'}) --> frozenset({'K', 'U'}) conf: 1.0\n",
      "frozenset({'K', 'U'}) --> frozenset({'M', 'C'}) conf: 1.0\n",
      "frozenset({'K', 'C'}) --> frozenset({'M', 'U'}) conf: 1.0\n",
      "frozenset({'U'}) --> frozenset({'K', 'M', 'C'}) conf: 1.0\n",
      "frozenset({'C'}) --> frozenset({'K', 'M', 'U'}) conf: 1.0\n",
      "frozenset({'C', 'U'}) --> frozenset({'K', 'Y'}) conf: 1.0\n",
      "frozenset({'Y', 'U'}) --> frozenset({'K', 'C'}) conf: 1.0\n",
      "frozenset({'Y', 'C'}) --> frozenset({'K', 'U'}) conf: 1.0\n",
      "frozenset({'K', 'U'}) --> frozenset({'Y', 'C'}) conf: 1.0\n",
      "frozenset({'K', 'C'}) --> frozenset({'Y', 'U'}) conf: 1.0\n",
      "frozenset({'U'}) --> frozenset({'K', 'Y', 'C'}) conf: 1.0\n",
      "frozenset({'C'}) --> frozenset({'K', 'Y', 'U'}) conf: 1.0\n",
      "frozenset({'M', 'U'}) --> frozenset({'Y', 'C'}) conf: 1.0\n",
      "frozenset({'C', 'U'}) --> frozenset({'M', 'Y'}) conf: 1.0\n",
      "frozenset({'M', 'C'}) --> frozenset({'Y', 'U'}) conf: 1.0\n",
      "frozenset({'Y', 'U'}) --> frozenset({'M', 'C'}) conf: 1.0\n",
      "frozenset({'M', 'Y'}) --> frozenset({'C', 'U'}) conf: 0.5\n",
      "frozenset({'Y', 'C'}) --> frozenset({'M', 'U'}) conf: 1.0\n",
      "frozenset({'U'}) --> frozenset({'M', 'Y', 'C'}) conf: 1.0\n",
      "frozenset({'C'}) --> frozenset({'M', 'Y', 'U'}) conf: 1.0\n",
      "frozenset({'A', 'M'}) --> frozenset({'E', 'K'}) conf: 1.0\n",
      "frozenset({'K', 'A'}) --> frozenset({'E', 'M'}) conf: 1.0\n",
      "frozenset({'E', 'M'}) --> frozenset({'K', 'A'}) conf: 0.5\n",
      "frozenset({'E', 'A'}) --> frozenset({'K', 'M'}) conf: 1.0\n",
      "frozenset({'A'}) --> frozenset({'E', 'K', 'M'}) conf: 1.0\n",
      "frozenset({'D', 'N'}) --> frozenset({'E', 'K'}) conf: 1.0\n",
      "frozenset({'K', 'N'}) --> frozenset({'E', 'D'}) conf: 0.5\n",
      "frozenset({'K', 'D'}) --> frozenset({'E', 'N'}) conf: 1.0\n",
      "frozenset({'E', 'N'}) --> frozenset({'K', 'D'}) conf: 0.5\n",
      "frozenset({'E', 'D'}) --> frozenset({'K', 'N'}) conf: 1.0\n",
      "frozenset({'N'}) --> frozenset({'E', 'K', 'D'}) conf: 0.5\n",
      "frozenset({'D'}) --> frozenset({'E', 'K', 'N'}) conf: 1.0\n",
      "frozenset({'Y', 'D'}) --> frozenset({'E', 'K'}) conf: 1.0\n",
      "frozenset({'K', 'D'}) --> frozenset({'E', 'Y'}) conf: 1.0\n",
      "frozenset({'E', 'Y'}) --> frozenset({'K', 'D'}) conf: 0.5\n",
      "frozenset({'E', 'D'}) --> frozenset({'K', 'Y'}) conf: 1.0\n",
      "frozenset({'D'}) --> frozenset({'E', 'K', 'Y'}) conf: 1.0\n",
      "frozenset({'D', 'N'}) --> frozenset({'E', 'Y'}) conf: 1.0\n",
      "frozenset({'Y', 'N'}) --> frozenset({'E', 'D'}) conf: 0.5\n",
      "frozenset({'D', 'Y'}) --> frozenset({'E', 'N'}) conf: 1.0\n",
      "frozenset({'E', 'N'}) --> frozenset({'D', 'Y'}) conf: 0.5\n",
      "frozenset({'E', 'D'}) --> frozenset({'Y', 'N'}) conf: 1.0\n",
      "frozenset({'E', 'Y'}) --> frozenset({'D', 'N'}) conf: 0.5\n",
      "frozenset({'N'}) --> frozenset({'E', 'D', 'Y'}) conf: 0.5\n",
      "frozenset({'D'}) --> frozenset({'E', 'Y', 'N'}) conf: 1.0\n",
      "frozenset({'Y', 'N'}) --> frozenset({'K', 'D'}) conf: 0.5\n",
      "frozenset({'D', 'N'}) --> frozenset({'K', 'Y'}) conf: 1.0\n",
      "frozenset({'Y', 'D'}) --> frozenset({'K', 'N'}) conf: 1.0\n",
      "frozenset({'K', 'N'}) --> frozenset({'Y', 'D'}) conf: 0.5\n",
      "frozenset({'K', 'D'}) --> frozenset({'Y', 'N'}) conf: 1.0\n",
      "frozenset({'N'}) --> frozenset({'K', 'D', 'Y'}) conf: 0.5\n",
      "frozenset({'D'}) --> frozenset({'K', 'Y', 'N'}) conf: 1.0\n",
      "frozenset({'K', 'D'}) --> frozenset({'O', 'E'}) conf: 1.0\n",
      "frozenset({'E', 'D'}) --> frozenset({'O', 'K'}) conf: 1.0\n",
      "frozenset({'O', 'D'}) --> frozenset({'E', 'K'}) conf: 1.0\n",
      "frozenset({'O', 'K'}) --> frozenset({'E', 'D'}) conf: 0.5\n",
      "frozenset({'O', 'E'}) --> frozenset({'K', 'D'}) conf: 0.5\n",
      "frozenset({'D'}) --> frozenset({'O', 'K', 'E'}) conf: 1.0\n",
      "frozenset({'O'}) --> frozenset({'E', 'K', 'D'}) conf: 0.5\n",
      "frozenset({'D', 'N'}) --> frozenset({'O', 'K'}) conf: 1.0\n",
      "frozenset({'K', 'N'}) --> frozenset({'O', 'D'}) conf: 0.5\n",
      "frozenset({'K', 'D'}) --> frozenset({'O', 'N'}) conf: 1.0\n",
      "frozenset({'O', 'N'}) --> frozenset({'K', 'D'}) conf: 0.5\n",
      "frozenset({'O', 'D'}) --> frozenset({'K', 'N'}) conf: 1.0\n",
      "frozenset({'O', 'K'}) --> frozenset({'D', 'N'}) conf: 0.5\n",
      "frozenset({'N'}) --> frozenset({'O', 'K', 'D'}) conf: 0.5\n",
      "frozenset({'D'}) --> frozenset({'O', 'K', 'N'}) conf: 1.0\n",
      "frozenset({'O'}) --> frozenset({'K', 'D', 'N'}) conf: 0.5\n",
      "frozenset({'Y', 'D'}) --> frozenset({'O', 'K'}) conf: 1.0\n",
      "frozenset({'K', 'D'}) --> frozenset({'O', 'Y'}) conf: 1.0\n",
      "frozenset({'O', 'Y'}) --> frozenset({'K', 'D'}) conf: 0.5\n",
      "frozenset({'O', 'D'}) --> frozenset({'K', 'Y'}) conf: 1.0\n",
      "frozenset({'O', 'K'}) --> frozenset({'Y', 'D'}) conf: 0.5\n",
      "frozenset({'D'}) --> frozenset({'O', 'K', 'Y'}) conf: 1.0\n",
      "frozenset({'O'}) --> frozenset({'K', 'D', 'Y'}) conf: 0.5\n",
      "frozenset({'D', 'N'}) --> frozenset({'O', 'E'}) conf: 1.0\n",
      "frozenset({'E', 'N'}) --> frozenset({'O', 'D'}) conf: 0.5\n",
      "frozenset({'E', 'D'}) --> frozenset({'O', 'N'}) conf: 1.0\n",
      "frozenset({'O', 'N'}) --> frozenset({'E', 'D'}) conf: 0.5\n",
      "frozenset({'O', 'D'}) --> frozenset({'E', 'N'}) conf: 1.0\n",
      "frozenset({'O', 'E'}) --> frozenset({'D', 'N'}) conf: 0.5\n",
      "frozenset({'N'}) --> frozenset({'O', 'D', 'E'}) conf: 0.5\n",
      "frozenset({'D'}) --> frozenset({'O', 'N', 'E'}) conf: 1.0\n",
      "frozenset({'O'}) --> frozenset({'E', 'D', 'N'}) conf: 0.5\n",
      "frozenset({'D', 'Y'}) --> frozenset({'O', 'E'}) conf: 1.0\n",
      "frozenset({'E', 'D'}) --> frozenset({'O', 'Y'}) conf: 1.0\n",
      "frozenset({'E', 'Y'}) --> frozenset({'O', 'D'}) conf: 0.5\n",
      "frozenset({'O', 'D'}) --> frozenset({'E', 'Y'}) conf: 1.0\n",
      "frozenset({'O', 'Y'}) --> frozenset({'E', 'D'}) conf: 0.5\n",
      "frozenset({'O', 'E'}) --> frozenset({'D', 'Y'}) conf: 0.5\n",
      "frozenset({'D'}) --> frozenset({'O', 'Y', 'E'}) conf: 1.0\n",
      "frozenset({'O'}) --> frozenset({'E', 'D', 'Y'}) conf: 0.5\n",
      "frozenset({'D', 'N'}) --> frozenset({'O', 'Y'}) conf: 1.0\n",
      "frozenset({'Y', 'N'}) --> frozenset({'O', 'D'}) conf: 0.5\n",
      "frozenset({'D', 'Y'}) --> frozenset({'O', 'N'}) conf: 1.0\n",
      "frozenset({'O', 'N'}) --> frozenset({'D', 'Y'}) conf: 0.5\n",
      "frozenset({'O', 'D'}) --> frozenset({'Y', 'N'}) conf: 1.0\n",
      "frozenset({'O', 'Y'}) --> frozenset({'D', 'N'}) conf: 0.5\n",
      "frozenset({'N'}) --> frozenset({'O', 'D', 'Y'}) conf: 0.5\n",
      "frozenset({'D'}) --> frozenset({'O', 'Y', 'N'}) conf: 1.0\n",
      "frozenset({'O'}) --> frozenset({'D', 'Y', 'N'}) conf: 0.5\n",
      "frozenset({'M', 'N'}) --> frozenset({'E', 'K'}) conf: 1.0\n",
      "frozenset({'K', 'N'}) --> frozenset({'E', 'M'}) conf: 0.5\n",
      "frozenset({'E', 'M'}) --> frozenset({'K', 'N'}) conf: 0.5\n",
      "frozenset({'E', 'N'}) --> frozenset({'K', 'M'}) conf: 0.5\n",
      "frozenset({'N'}) --> frozenset({'E', 'K', 'M'}) conf: 0.5\n",
      "frozenset({'M', 'Y'}) --> frozenset({'E', 'K'}) conf: 0.5\n",
      "frozenset({'E', 'M'}) --> frozenset({'K', 'Y'}) conf: 0.5\n",
      "frozenset({'E', 'Y'}) --> frozenset({'K', 'M'}) conf: 0.5\n",
      "frozenset({'Y', 'N'}) --> frozenset({'E', 'K'}) conf: 1.0\n",
      "frozenset({'K', 'N'}) --> frozenset({'E', 'Y'}) conf: 1.0\n",
      "frozenset({'K', 'Y'}) --> frozenset({'E', 'N'}) conf: 0.6666666666666666\n",
      "frozenset({'E', 'N'}) --> frozenset({'K', 'Y'}) conf: 1.0\n",
      "frozenset({'E', 'Y'}) --> frozenset({'K', 'N'}) conf: 1.0\n",
      "frozenset({'E', 'K'}) --> frozenset({'Y', 'N'}) conf: 0.6666666666666666\n",
      "frozenset({'N'}) --> frozenset({'E', 'K', 'Y'}) conf: 1.0\n",
      "frozenset({'Y'}) --> frozenset({'E', 'K', 'N'}) conf: 0.6666666666666666\n",
      "frozenset({'K'}) --> frozenset({'E', 'Y', 'N'}) conf: 0.5\n",
      "frozenset({'E'}) --> frozenset({'K', 'Y', 'N'}) conf: 0.6666666666666666\n",
      "frozenset({'M', 'N'}) --> frozenset({'K', 'Y'}) conf: 1.0\n",
      "frozenset({'M', 'Y'}) --> frozenset({'K', 'N'}) conf: 0.5\n",
      "frozenset({'Y', 'N'}) --> frozenset({'K', 'M'}) conf: 0.5\n",
      "frozenset({'K', 'N'}) --> frozenset({'M', 'Y'}) conf: 0.5\n",
      "frozenset({'N'}) --> frozenset({'M', 'K', 'Y'}) conf: 0.5\n",
      "frozenset({'M', 'N'}) --> frozenset({'E', 'Y'}) conf: 1.0\n",
      "frozenset({'M', 'Y'}) --> frozenset({'E', 'N'}) conf: 0.5\n",
      "frozenset({'Y', 'N'}) --> frozenset({'E', 'M'}) conf: 0.5\n",
      "frozenset({'E', 'M'}) --> frozenset({'Y', 'N'}) conf: 0.5\n",
      "frozenset({'E', 'N'}) --> frozenset({'M', 'Y'}) conf: 0.5\n",
      "frozenset({'E', 'Y'}) --> frozenset({'M', 'N'}) conf: 0.5\n",
      "frozenset({'N'}) --> frozenset({'E', 'M', 'Y'}) conf: 0.5\n",
      "frozenset({'E', 'M'}) --> frozenset({'O', 'K'}) conf: 0.5\n",
      "frozenset({'O', 'M'}) --> frozenset({'E', 'K'}) conf: 1.0\n",
      "frozenset({'O', 'K'}) --> frozenset({'E', 'M'}) conf: 0.5\n",
      "frozenset({'O', 'E'}) --> frozenset({'K', 'M'}) conf: 0.5\n",
      "frozenset({'O'}) --> frozenset({'E', 'K', 'M'}) conf: 0.5\n",
      "frozenset({'K', 'N'}) --> frozenset({'O', 'E'}) conf: 1.0\n",
      "frozenset({'E', 'N'}) --> frozenset({'O', 'K'}) conf: 1.0\n",
      "frozenset({'E', 'K'}) --> frozenset({'O', 'N'}) conf: 0.6666666666666666\n",
      "frozenset({'O', 'N'}) --> frozenset({'E', 'K'}) conf: 1.0\n",
      "frozenset({'O', 'K'}) --> frozenset({'E', 'N'}) conf: 1.0\n",
      "frozenset({'O', 'E'}) --> frozenset({'K', 'N'}) conf: 1.0\n",
      "frozenset({'N'}) --> frozenset({'O', 'K', 'E'}) conf: 1.0\n",
      "frozenset({'K'}) --> frozenset({'O', 'N', 'E'}) conf: 0.5\n",
      "frozenset({'E'}) --> frozenset({'O', 'K', 'N'}) conf: 0.6666666666666666\n",
      "frozenset({'O'}) --> frozenset({'E', 'K', 'N'}) conf: 1.0\n",
      "frozenset({'M', 'N'}) --> frozenset({'O', 'K'}) conf: 1.0\n",
      "frozenset({'K', 'N'}) --> frozenset({'O', 'M'}) conf: 0.5\n",
      "frozenset({'O', 'M'}) --> frozenset({'K', 'N'}) conf: 1.0\n",
      "frozenset({'O', 'N'}) --> frozenset({'K', 'M'}) conf: 0.5\n",
      "frozenset({'O', 'K'}) --> frozenset({'M', 'N'}) conf: 0.5\n",
      "frozenset({'N'}) --> frozenset({'O', 'K', 'M'}) conf: 0.5\n",
      "frozenset({'O'}) --> frozenset({'K', 'M', 'N'}) conf: 0.5\n",
      "frozenset({'K', 'Y'}) --> frozenset({'O', 'E'}) conf: 0.6666666666666666\n",
      "frozenset({'E', 'Y'}) --> frozenset({'O', 'K'}) conf: 1.0\n",
      "frozenset({'E', 'K'}) --> frozenset({'O', 'Y'}) conf: 0.6666666666666666\n",
      "frozenset({'O', 'Y'}) --> frozenset({'E', 'K'}) conf: 1.0\n",
      "frozenset({'O', 'K'}) --> frozenset({'E', 'Y'}) conf: 1.0\n",
      "frozenset({'O', 'E'}) --> frozenset({'K', 'Y'}) conf: 1.0\n",
      "frozenset({'Y'}) --> frozenset({'O', 'K', 'E'}) conf: 0.6666666666666666\n",
      "frozenset({'K'}) --> frozenset({'O', 'Y', 'E'}) conf: 0.5\n",
      "frozenset({'E'}) --> frozenset({'O', 'K', 'Y'}) conf: 0.6666666666666666\n",
      "frozenset({'O'}) --> frozenset({'E', 'K', 'Y'}) conf: 1.0\n",
      "frozenset({'M', 'Y'}) --> frozenset({'O', 'K'}) conf: 0.5\n",
      "frozenset({'O', 'M'}) --> frozenset({'K', 'Y'}) conf: 1.0\n",
      "frozenset({'O', 'Y'}) --> frozenset({'K', 'M'}) conf: 0.5\n",
      "frozenset({'O', 'K'}) --> frozenset({'M', 'Y'}) conf: 0.5\n",
      "frozenset({'O'}) --> frozenset({'M', 'K', 'Y'}) conf: 0.5\n",
      "frozenset({'Y', 'N'}) --> frozenset({'O', 'K'}) conf: 1.0\n",
      "frozenset({'K', 'N'}) --> frozenset({'O', 'Y'}) conf: 1.0\n",
      "frozenset({'K', 'Y'}) --> frozenset({'O', 'N'}) conf: 0.6666666666666666\n",
      "frozenset({'O', 'N'}) --> frozenset({'K', 'Y'}) conf: 1.0\n",
      "frozenset({'O', 'Y'}) --> frozenset({'K', 'N'}) conf: 1.0\n",
      "frozenset({'O', 'K'}) --> frozenset({'Y', 'N'}) conf: 1.0\n",
      "frozenset({'N'}) --> frozenset({'O', 'K', 'Y'}) conf: 1.0\n",
      "frozenset({'Y'}) --> frozenset({'O', 'K', 'N'}) conf: 0.6666666666666666\n",
      "frozenset({'K'}) --> frozenset({'O', 'Y', 'N'}) conf: 0.5\n",
      "frozenset({'O'}) --> frozenset({'K', 'Y', 'N'}) conf: 1.0\n",
      "frozenset({'M', 'N'}) --> frozenset({'O', 'E'}) conf: 1.0\n",
      "frozenset({'E', 'M'}) --> frozenset({'O', 'N'}) conf: 0.5\n",
      "frozenset({'E', 'N'}) --> frozenset({'O', 'M'}) conf: 0.5\n",
      "frozenset({'O', 'M'}) --> frozenset({'E', 'N'}) conf: 1.0\n",
      "frozenset({'O', 'N'}) --> frozenset({'E', 'M'}) conf: 0.5\n",
      "frozenset({'O', 'E'}) --> frozenset({'M', 'N'}) conf: 0.5\n",
      "frozenset({'N'}) --> frozenset({'O', 'M', 'E'}) conf: 0.5\n",
      "frozenset({'O'}) --> frozenset({'E', 'M', 'N'}) conf: 0.5\n",
      "frozenset({'M', 'Y'}) --> frozenset({'O', 'E'}) conf: 0.5\n",
      "frozenset({'E', 'M'}) --> frozenset({'O', 'Y'}) conf: 0.5\n",
      "frozenset({'E', 'Y'}) --> frozenset({'O', 'M'}) conf: 0.5\n",
      "frozenset({'O', 'M'}) --> frozenset({'E', 'Y'}) conf: 1.0\n",
      "frozenset({'O', 'Y'}) --> frozenset({'E', 'M'}) conf: 0.5\n",
      "frozenset({'O', 'E'}) --> frozenset({'M', 'Y'}) conf: 0.5\n",
      "frozenset({'O'}) --> frozenset({'E', 'M', 'Y'}) conf: 0.5\n",
      "frozenset({'Y', 'N'}) --> frozenset({'O', 'E'}) conf: 1.0\n",
      "frozenset({'E', 'N'}) --> frozenset({'O', 'Y'}) conf: 1.0\n",
      "frozenset({'E', 'Y'}) --> frozenset({'O', 'N'}) conf: 1.0\n",
      "frozenset({'O', 'N'}) --> frozenset({'E', 'Y'}) conf: 1.0\n",
      "frozenset({'O', 'Y'}) --> frozenset({'E', 'N'}) conf: 1.0\n",
      "frozenset({'O', 'E'}) --> frozenset({'Y', 'N'}) conf: 1.0\n",
      "frozenset({'N'}) --> frozenset({'O', 'Y', 'E'}) conf: 1.0\n",
      "frozenset({'Y'}) --> frozenset({'O', 'N', 'E'}) conf: 0.6666666666666666\n"
     ]
    },
    {
     "name": "stdout",
     "output_type": "stream",
     "text": [
      "frozenset({'E'}) --> frozenset({'O', 'Y', 'N'}) conf: 0.6666666666666666\n",
      "frozenset({'O'}) --> frozenset({'E', 'Y', 'N'}) conf: 1.0\n",
      "frozenset({'M', 'N'}) --> frozenset({'O', 'Y'}) conf: 1.0\n",
      "frozenset({'M', 'Y'}) --> frozenset({'O', 'N'}) conf: 0.5\n",
      "frozenset({'Y', 'N'}) --> frozenset({'O', 'M'}) conf: 0.5\n",
      "frozenset({'O', 'M'}) --> frozenset({'Y', 'N'}) conf: 1.0\n",
      "frozenset({'O', 'N'}) --> frozenset({'M', 'Y'}) conf: 0.5\n",
      "frozenset({'O', 'Y'}) --> frozenset({'M', 'N'}) conf: 0.5\n",
      "frozenset({'N'}) --> frozenset({'O', 'M', 'Y'}) conf: 0.5\n",
      "frozenset({'O'}) --> frozenset({'M', 'Y', 'N'}) conf: 0.5\n",
      "frozenset({'Y', 'C', 'U'}) --> frozenset({'K', 'M'}) conf: 1.0\n",
      "frozenset({'M', 'C', 'U'}) --> frozenset({'K', 'Y'}) conf: 1.0\n",
      "frozenset({'Y', 'M', 'U'}) --> frozenset({'K', 'C'}) conf: 1.0\n",
      "frozenset({'Y', 'M', 'C'}) --> frozenset({'K', 'U'}) conf: 1.0\n",
      "frozenset({'K', 'C', 'U'}) --> frozenset({'Y', 'M'}) conf: 1.0\n",
      "frozenset({'K', 'Y', 'U'}) --> frozenset({'M', 'C'}) conf: 1.0\n",
      "frozenset({'K', 'Y', 'C'}) --> frozenset({'M', 'U'}) conf: 1.0\n",
      "frozenset({'K', 'M', 'U'}) --> frozenset({'Y', 'C'}) conf: 1.0\n",
      "frozenset({'K', 'M', 'C'}) --> frozenset({'Y', 'U'}) conf: 1.0\n",
      "frozenset({'K', 'M', 'Y'}) --> frozenset({'C', 'U'}) conf: 0.5\n",
      "frozenset({'C', 'U'}) --> frozenset({'K', 'M', 'Y'}) conf: 1.0\n",
      "frozenset({'Y', 'U'}) --> frozenset({'K', 'M', 'C'}) conf: 1.0\n",
      "frozenset({'Y', 'C'}) --> frozenset({'K', 'M', 'U'}) conf: 1.0\n",
      "frozenset({'M', 'U'}) --> frozenset({'K', 'Y', 'C'}) conf: 1.0\n",
      "frozenset({'M', 'C'}) --> frozenset({'K', 'Y', 'U'}) conf: 1.0\n",
      "frozenset({'Y', 'M'}) --> frozenset({'K', 'C', 'U'}) conf: 0.5\n",
      "frozenset({'K', 'U'}) --> frozenset({'Y', 'M', 'C'}) conf: 1.0\n",
      "frozenset({'K', 'C'}) --> frozenset({'Y', 'M', 'U'}) conf: 1.0\n",
      "frozenset({'U'}) --> frozenset({'K', 'Y', 'C', 'M'}) conf: 1.0\n",
      "frozenset({'C'}) --> frozenset({'K', 'Y', 'M', 'U'}) conf: 1.0\n",
      "frozenset({'Y', 'D', 'N'}) --> frozenset({'O', 'E'}) conf: 1.0\n",
      "frozenset({'E', 'Y', 'N'}) --> frozenset({'O', 'D'}) conf: 0.5\n",
      "frozenset({'E', 'D', 'N'}) --> frozenset({'O', 'Y'}) conf: 1.0\n",
      "frozenset({'E', 'Y', 'D'}) --> frozenset({'O', 'N'}) conf: 1.0\n",
      "frozenset({'O', 'Y', 'N'}) --> frozenset({'E', 'D'}) conf: 0.5\n",
      "frozenset({'O', 'D', 'N'}) --> frozenset({'E', 'Y'}) conf: 1.0\n",
      "frozenset({'O', 'Y', 'D'}) --> frozenset({'E', 'N'}) conf: 1.0\n",
      "frozenset({'O', 'N', 'E'}) --> frozenset({'Y', 'D'}) conf: 0.5\n",
      "frozenset({'O', 'Y', 'E'}) --> frozenset({'D', 'N'}) conf: 0.5\n",
      "frozenset({'O', 'D', 'E'}) --> frozenset({'Y', 'N'}) conf: 1.0\n",
      "frozenset({'Y', 'N'}) --> frozenset({'O', 'D', 'E'}) conf: 0.5\n",
      "frozenset({'D', 'N'}) --> frozenset({'O', 'Y', 'E'}) conf: 1.0\n",
      "frozenset({'Y', 'D'}) --> frozenset({'O', 'N', 'E'}) conf: 1.0\n",
      "frozenset({'E', 'N'}) --> frozenset({'O', 'Y', 'D'}) conf: 0.5\n",
      "frozenset({'E', 'Y'}) --> frozenset({'O', 'D', 'N'}) conf: 0.5\n",
      "frozenset({'E', 'D'}) --> frozenset({'O', 'Y', 'N'}) conf: 1.0\n",
      "frozenset({'O', 'N'}) --> frozenset({'E', 'Y', 'D'}) conf: 0.5\n",
      "frozenset({'O', 'Y'}) --> frozenset({'E', 'D', 'N'}) conf: 0.5\n",
      "frozenset({'O', 'D'}) --> frozenset({'E', 'Y', 'N'}) conf: 1.0\n",
      "frozenset({'O', 'E'}) --> frozenset({'Y', 'D', 'N'}) conf: 0.5\n",
      "frozenset({'N'}) --> frozenset({'O', 'E', 'Y', 'D'}) conf: 0.5\n",
      "frozenset({'D'}) --> frozenset({'O', 'E', 'Y', 'N'}) conf: 1.0\n",
      "frozenset({'O'}) --> frozenset({'E', 'Y', 'D', 'N'}) conf: 0.5\n",
      "frozenset({'Y', 'D', 'N'}) --> frozenset({'O', 'K'}) conf: 1.0\n",
      "frozenset({'O', 'Y', 'N'}) --> frozenset({'K', 'D'}) conf: 0.5\n",
      "frozenset({'O', 'D', 'N'}) --> frozenset({'K', 'Y'}) conf: 1.0\n",
      "frozenset({'O', 'Y', 'D'}) --> frozenset({'K', 'N'}) conf: 1.0\n",
      "frozenset({'K', 'Y', 'N'}) --> frozenset({'O', 'D'}) conf: 0.5\n",
      "frozenset({'K', 'D', 'N'}) --> frozenset({'O', 'Y'}) conf: 1.0\n",
      "frozenset({'K', 'D', 'Y'}) --> frozenset({'O', 'N'}) conf: 1.0\n",
      "frozenset({'O', 'K', 'N'}) --> frozenset({'Y', 'D'}) conf: 0.5\n",
      "frozenset({'O', 'K', 'Y'}) --> frozenset({'D', 'N'}) conf: 0.5\n",
      "frozenset({'O', 'K', 'D'}) --> frozenset({'Y', 'N'}) conf: 1.0\n",
      "frozenset({'Y', 'N'}) --> frozenset({'O', 'K', 'D'}) conf: 0.5\n",
      "frozenset({'D', 'N'}) --> frozenset({'O', 'K', 'Y'}) conf: 1.0\n",
      "frozenset({'Y', 'D'}) --> frozenset({'O', 'K', 'N'}) conf: 1.0\n",
      "frozenset({'O', 'N'}) --> frozenset({'K', 'D', 'Y'}) conf: 0.5\n",
      "frozenset({'O', 'Y'}) --> frozenset({'K', 'D', 'N'}) conf: 0.5\n",
      "frozenset({'O', 'D'}) --> frozenset({'K', 'Y', 'N'}) conf: 1.0\n",
      "frozenset({'K', 'N'}) --> frozenset({'O', 'Y', 'D'}) conf: 0.5\n",
      "frozenset({'K', 'D'}) --> frozenset({'O', 'Y', 'N'}) conf: 1.0\n",
      "frozenset({'O', 'K'}) --> frozenset({'Y', 'D', 'N'}) conf: 0.5\n",
      "frozenset({'N'}) --> frozenset({'O', 'K', 'D', 'Y'}) conf: 0.5\n",
      "frozenset({'D'}) --> frozenset({'O', 'K', 'Y', 'N'}) conf: 1.0\n",
      "frozenset({'O'}) --> frozenset({'K', 'D', 'Y', 'N'}) conf: 0.5\n",
      "frozenset({'E', 'Y', 'D'}) --> frozenset({'O', 'K'}) conf: 1.0\n",
      "frozenset({'O', 'Y', 'D'}) --> frozenset({'E', 'K'}) conf: 1.0\n",
      "frozenset({'O', 'Y', 'E'}) --> frozenset({'K', 'D'}) conf: 0.5\n",
      "frozenset({'O', 'D', 'E'}) --> frozenset({'K', 'Y'}) conf: 1.0\n",
      "frozenset({'K', 'D', 'Y'}) --> frozenset({'O', 'E'}) conf: 1.0\n",
      "frozenset({'E', 'K', 'Y'}) --> frozenset({'O', 'D'}) conf: 0.5\n",
      "frozenset({'E', 'K', 'D'}) --> frozenset({'O', 'Y'}) conf: 1.0\n",
      "frozenset({'O', 'K', 'Y'}) --> frozenset({'E', 'D'}) conf: 0.5\n",
      "frozenset({'O', 'K', 'D'}) --> frozenset({'E', 'Y'}) conf: 1.0\n",
      "frozenset({'O', 'K', 'E'}) --> frozenset({'Y', 'D'}) conf: 0.5\n",
      "frozenset({'Y', 'D'}) --> frozenset({'O', 'K', 'E'}) conf: 1.0\n",
      "frozenset({'E', 'Y'}) --> frozenset({'O', 'K', 'D'}) conf: 0.5\n",
      "frozenset({'E', 'D'}) --> frozenset({'O', 'K', 'Y'}) conf: 1.0\n",
      "frozenset({'O', 'Y'}) --> frozenset({'E', 'K', 'D'}) conf: 0.5\n",
      "frozenset({'O', 'D'}) --> frozenset({'E', 'K', 'Y'}) conf: 1.0\n",
      "frozenset({'O', 'E'}) --> frozenset({'K', 'D', 'Y'}) conf: 0.5\n",
      "frozenset({'K', 'D'}) --> frozenset({'O', 'Y', 'E'}) conf: 1.0\n",
      "frozenset({'O', 'K'}) --> frozenset({'E', 'Y', 'D'}) conf: 0.5\n",
      "frozenset({'D'}) --> frozenset({'O', 'E', 'K', 'Y'}) conf: 1.0\n",
      "frozenset({'O'}) --> frozenset({'E', 'K', 'D', 'Y'}) conf: 0.5\n",
      "frozenset({'E', 'D', 'N'}) --> frozenset({'O', 'K'}) conf: 1.0\n",
      "frozenset({'O', 'D', 'N'}) --> frozenset({'E', 'K'}) conf: 1.0\n",
      "frozenset({'O', 'N', 'E'}) --> frozenset({'K', 'D'}) conf: 0.5\n",
      "frozenset({'O', 'D', 'E'}) --> frozenset({'K', 'N'}) conf: 1.0\n",
      "frozenset({'K', 'D', 'N'}) --> frozenset({'O', 'E'}) conf: 1.0\n",
      "frozenset({'E', 'K', 'N'}) --> frozenset({'O', 'D'}) conf: 0.5\n",
      "frozenset({'E', 'K', 'D'}) --> frozenset({'O', 'N'}) conf: 1.0\n",
      "frozenset({'O', 'K', 'N'}) --> frozenset({'E', 'D'}) conf: 0.5\n",
      "frozenset({'O', 'K', 'D'}) --> frozenset({'E', 'N'}) conf: 1.0\n",
      "frozenset({'O', 'K', 'E'}) --> frozenset({'D', 'N'}) conf: 0.5\n",
      "frozenset({'D', 'N'}) --> frozenset({'O', 'K', 'E'}) conf: 1.0\n",
      "frozenset({'E', 'N'}) --> frozenset({'O', 'K', 'D'}) conf: 0.5\n",
      "frozenset({'E', 'D'}) --> frozenset({'O', 'K', 'N'}) conf: 1.0\n",
      "frozenset({'O', 'N'}) --> frozenset({'E', 'K', 'D'}) conf: 0.5\n",
      "frozenset({'O', 'D'}) --> frozenset({'E', 'K', 'N'}) conf: 1.0\n",
      "frozenset({'O', 'E'}) --> frozenset({'K', 'D', 'N'}) conf: 0.5\n",
      "frozenset({'K', 'N'}) --> frozenset({'O', 'D', 'E'}) conf: 0.5\n",
      "frozenset({'K', 'D'}) --> frozenset({'O', 'N', 'E'}) conf: 1.0\n",
      "frozenset({'O', 'K'}) --> frozenset({'E', 'D', 'N'}) conf: 0.5\n",
      "frozenset({'N'}) --> frozenset({'O', 'E', 'K', 'D'}) conf: 0.5\n",
      "frozenset({'D'}) --> frozenset({'O', 'E', 'K', 'N'}) conf: 1.0\n",
      "frozenset({'O'}) --> frozenset({'E', 'K', 'D', 'N'}) conf: 0.5\n",
      "frozenset({'Y', 'D', 'N'}) --> frozenset({'E', 'K'}) conf: 1.0\n",
      "frozenset({'E', 'Y', 'N'}) --> frozenset({'K', 'D'}) conf: 0.5\n",
      "frozenset({'E', 'D', 'N'}) --> frozenset({'K', 'Y'}) conf: 1.0\n",
      "frozenset({'E', 'Y', 'D'}) --> frozenset({'K', 'N'}) conf: 1.0\n",
      "frozenset({'K', 'Y', 'N'}) --> frozenset({'E', 'D'}) conf: 0.5\n",
      "frozenset({'K', 'D', 'N'}) --> frozenset({'E', 'Y'}) conf: 1.0\n",
      "frozenset({'K', 'D', 'Y'}) --> frozenset({'E', 'N'}) conf: 1.0\n",
      "frozenset({'E', 'K', 'N'}) --> frozenset({'Y', 'D'}) conf: 0.5\n",
      "frozenset({'E', 'K', 'Y'}) --> frozenset({'D', 'N'}) conf: 0.5\n",
      "frozenset({'E', 'K', 'D'}) --> frozenset({'Y', 'N'}) conf: 1.0\n",
      "frozenset({'Y', 'N'}) --> frozenset({'E', 'K', 'D'}) conf: 0.5\n",
      "frozenset({'D', 'N'}) --> frozenset({'E', 'K', 'Y'}) conf: 1.0\n",
      "frozenset({'Y', 'D'}) --> frozenset({'E', 'K', 'N'}) conf: 1.0\n",
      "frozenset({'E', 'N'}) --> frozenset({'K', 'D', 'Y'}) conf: 0.5\n",
      "frozenset({'E', 'Y'}) --> frozenset({'K', 'D', 'N'}) conf: 0.5\n",
      "frozenset({'E', 'D'}) --> frozenset({'K', 'Y', 'N'}) conf: 1.0\n",
      "frozenset({'K', 'N'}) --> frozenset({'E', 'Y', 'D'}) conf: 0.5\n",
      "frozenset({'K', 'D'}) --> frozenset({'E', 'Y', 'N'}) conf: 1.0\n",
      "frozenset({'N'}) --> frozenset({'E', 'K', 'D', 'Y'}) conf: 0.5\n",
      "frozenset({'D'}) --> frozenset({'E', 'K', 'Y', 'N'}) conf: 1.0\n",
      "frozenset({'E', 'Y', 'N'}) --> frozenset({'O', 'M'}) conf: 0.5\n",
      "frozenset({'O', 'Y', 'N'}) --> frozenset({'E', 'M'}) conf: 0.5\n",
      "frozenset({'O', 'N', 'E'}) --> frozenset({'Y', 'M'}) conf: 0.5\n",
      "frozenset({'O', 'Y', 'E'}) --> frozenset({'M', 'N'}) conf: 0.5\n",
      "frozenset({'Y', 'M', 'N'}) --> frozenset({'O', 'E'}) conf: 1.0\n",
      "frozenset({'E', 'M', 'N'}) --> frozenset({'O', 'Y'}) conf: 1.0\n",
      "frozenset({'E', 'Y', 'M'}) --> frozenset({'O', 'N'}) conf: 1.0\n",
      "frozenset({'O', 'M', 'N'}) --> frozenset({'E', 'Y'}) conf: 1.0\n",
      "frozenset({'O', 'Y', 'M'}) --> frozenset({'E', 'N'}) conf: 1.0\n",
      "frozenset({'O', 'M', 'E'}) --> frozenset({'Y', 'N'}) conf: 1.0\n",
      "frozenset({'Y', 'N'}) --> frozenset({'O', 'M', 'E'}) conf: 0.5\n",
      "frozenset({'E', 'N'}) --> frozenset({'O', 'Y', 'M'}) conf: 0.5\n",
      "frozenset({'E', 'Y'}) --> frozenset({'O', 'M', 'N'}) conf: 0.5\n",
      "frozenset({'O', 'N'}) --> frozenset({'E', 'Y', 'M'}) conf: 0.5\n",
      "frozenset({'O', 'Y'}) --> frozenset({'E', 'M', 'N'}) conf: 0.5\n",
      "frozenset({'O', 'E'}) --> frozenset({'Y', 'M', 'N'}) conf: 0.5\n",
      "frozenset({'M', 'N'}) --> frozenset({'O', 'Y', 'E'}) conf: 1.0\n",
      "frozenset({'Y', 'M'}) --> frozenset({'O', 'N', 'E'}) conf: 0.5\n",
      "frozenset({'E', 'M'}) --> frozenset({'O', 'Y', 'N'}) conf: 0.5\n",
      "frozenset({'O', 'M'}) --> frozenset({'E', 'Y', 'N'}) conf: 1.0\n",
      "frozenset({'N'}) --> frozenset({'O', 'E', 'Y', 'M'}) conf: 0.5\n",
      "frozenset({'O'}) --> frozenset({'E', 'Y', 'N', 'M'}) conf: 0.5\n",
      "frozenset({'O', 'Y', 'N'}) --> frozenset({'K', 'M'}) conf: 0.5\n",
      "frozenset({'Y', 'M', 'N'}) --> frozenset({'O', 'K'}) conf: 1.0\n",
      "frozenset({'O', 'M', 'N'}) --> frozenset({'K', 'Y'}) conf: 1.0\n",
      "frozenset({'O', 'Y', 'M'}) --> frozenset({'K', 'N'}) conf: 1.0\n",
      "frozenset({'K', 'Y', 'N'}) --> frozenset({'O', 'M'}) conf: 0.5\n",
      "frozenset({'O', 'K', 'N'}) --> frozenset({'Y', 'M'}) conf: 0.5\n",
      "frozenset({'O', 'K', 'Y'}) --> frozenset({'M', 'N'}) conf: 0.5\n",
      "frozenset({'K', 'M', 'N'}) --> frozenset({'O', 'Y'}) conf: 1.0\n",
      "frozenset({'K', 'M', 'Y'}) --> frozenset({'O', 'N'}) conf: 0.5\n",
      "frozenset({'O', 'K', 'M'}) --> frozenset({'Y', 'N'}) conf: 1.0\n",
      "frozenset({'O', 'N'}) --> frozenset({'K', 'M', 'Y'}) conf: 0.5\n",
      "frozenset({'O', 'Y'}) --> frozenset({'K', 'M', 'N'}) conf: 0.5\n",
      "frozenset({'Y', 'N'}) --> frozenset({'O', 'K', 'M'}) conf: 0.5\n",
      "frozenset({'M', 'N'}) --> frozenset({'O', 'K', 'Y'}) conf: 1.0\n",
      "frozenset({'Y', 'M'}) --> frozenset({'O', 'K', 'N'}) conf: 0.5\n",
      "frozenset({'O', 'M'}) --> frozenset({'K', 'Y', 'N'}) conf: 1.0\n",
      "frozenset({'K', 'N'}) --> frozenset({'O', 'Y', 'M'}) conf: 0.5\n",
      "frozenset({'O', 'K'}) --> frozenset({'Y', 'M', 'N'}) conf: 0.5\n",
      "frozenset({'O'}) --> frozenset({'K', 'Y', 'N', 'M'}) conf: 0.5\n",
      "frozenset({'N'}) --> frozenset({'O', 'K', 'Y', 'M'}) conf: 0.5\n",
      "frozenset({'E', 'Y', 'N'}) --> frozenset({'O', 'K'}) conf: 1.0\n",
      "frozenset({'O', 'Y', 'N'}) --> frozenset({'E', 'K'}) conf: 1.0\n",
      "frozenset({'O', 'N', 'E'}) --> frozenset({'K', 'Y'}) conf: 1.0\n",
      "frozenset({'O', 'Y', 'E'}) --> frozenset({'K', 'N'}) conf: 1.0\n",
      "frozenset({'K', 'Y', 'N'}) --> frozenset({'O', 'E'}) conf: 1.0\n",
      "frozenset({'E', 'K', 'N'}) --> frozenset({'O', 'Y'}) conf: 1.0\n",
      "frozenset({'E', 'K', 'Y'}) --> frozenset({'O', 'N'}) conf: 1.0\n",
      "frozenset({'O', 'K', 'N'}) --> frozenset({'E', 'Y'}) conf: 1.0\n",
      "frozenset({'O', 'K', 'Y'}) --> frozenset({'E', 'N'}) conf: 1.0\n",
      "frozenset({'O', 'K', 'E'}) --> frozenset({'Y', 'N'}) conf: 1.0\n",
      "frozenset({'Y', 'N'}) --> frozenset({'O', 'K', 'E'}) conf: 1.0\n",
      "frozenset({'E', 'N'}) --> frozenset({'O', 'K', 'Y'}) conf: 1.0\n",
      "frozenset({'E', 'Y'}) --> frozenset({'O', 'K', 'N'}) conf: 1.0\n",
      "frozenset({'O', 'N'}) --> frozenset({'E', 'K', 'Y'}) conf: 1.0\n",
      "frozenset({'O', 'Y'}) --> frozenset({'E', 'K', 'N'}) conf: 1.0\n",
      "frozenset({'O', 'E'}) --> frozenset({'K', 'Y', 'N'}) conf: 1.0\n",
      "frozenset({'K', 'N'}) --> frozenset({'O', 'Y', 'E'}) conf: 1.0\n",
      "frozenset({'K', 'Y'}) --> frozenset({'O', 'N', 'E'}) conf: 0.6666666666666666\n",
      "frozenset({'E', 'K'}) --> frozenset({'O', 'Y', 'N'}) conf: 0.6666666666666666\n",
      "frozenset({'O', 'K'}) --> frozenset({'E', 'Y', 'N'}) conf: 1.0\n",
      "frozenset({'N'}) --> frozenset({'O', 'E', 'K', 'Y'}) conf: 1.0\n",
      "frozenset({'Y'}) --> frozenset({'O', 'E', 'K', 'N'}) conf: 0.6666666666666666\n",
      "frozenset({'E'}) --> frozenset({'O', 'K', 'Y', 'N'}) conf: 0.6666666666666666\n",
      "frozenset({'O'}) --> frozenset({'E', 'K', 'Y', 'N'}) conf: 1.0\n",
      "frozenset({'K'}) --> frozenset({'O', 'E', 'Y', 'N'}) conf: 0.5\n",
      "frozenset({'O', 'Y', 'E'}) --> frozenset({'K', 'M'}) conf: 0.5\n",
      "frozenset({'E', 'Y', 'M'}) --> frozenset({'O', 'K'}) conf: 1.0\n",
      "frozenset({'O', 'Y', 'M'}) --> frozenset({'E', 'K'}) conf: 1.0\n",
      "frozenset({'O', 'M', 'E'}) --> frozenset({'K', 'Y'}) conf: 1.0\n",
      "frozenset({'E', 'K', 'Y'}) --> frozenset({'O', 'M'}) conf: 0.5\n",
      "frozenset({'O', 'K', 'Y'}) --> frozenset({'E', 'M'}) conf: 0.5\n",
      "frozenset({'O', 'K', 'E'}) --> frozenset({'Y', 'M'}) conf: 0.5\n",
      "frozenset({'K', 'M', 'Y'}) --> frozenset({'O', 'E'}) conf: 0.5\n",
      "frozenset({'E', 'K', 'M'}) --> frozenset({'O', 'Y'}) conf: 0.5\n",
      "frozenset({'O', 'K', 'M'}) --> frozenset({'E', 'Y'}) conf: 1.0\n",
      "frozenset({'O', 'E'}) --> frozenset({'K', 'M', 'Y'}) conf: 0.5\n",
      "frozenset({'E', 'Y'}) --> frozenset({'O', 'K', 'M'}) conf: 0.5\n",
      "frozenset({'Y', 'M'}) --> frozenset({'O', 'K', 'E'}) conf: 0.5\n",
      "frozenset({'E', 'M'}) --> frozenset({'O', 'K', 'Y'}) conf: 0.5\n",
      "frozenset({'O', 'Y'}) --> frozenset({'E', 'K', 'M'}) conf: 0.5\n",
      "frozenset({'O', 'M'}) --> frozenset({'E', 'K', 'Y'}) conf: 1.0\n",
      "frozenset({'O', 'K'}) --> frozenset({'E', 'Y', 'M'}) conf: 0.5\n",
      "frozenset({'O'}) --> frozenset({'E', 'K', 'Y', 'M'}) conf: 0.5\n",
      "frozenset({'O', 'N', 'E'}) --> frozenset({'K', 'M'}) conf: 0.5\n",
      "frozenset({'E', 'M', 'N'}) --> frozenset({'O', 'K'}) conf: 1.0\n",
      "frozenset({'O', 'M', 'N'}) --> frozenset({'E', 'K'}) conf: 1.0\n",
      "frozenset({'O', 'M', 'E'}) --> frozenset({'K', 'N'}) conf: 1.0\n",
      "frozenset({'E', 'K', 'N'}) --> frozenset({'O', 'M'}) conf: 0.5\n",
      "frozenset({'O', 'K', 'N'}) --> frozenset({'E', 'M'}) conf: 0.5\n",
      "frozenset({'O', 'K', 'E'}) --> frozenset({'M', 'N'}) conf: 0.5\n",
      "frozenset({'K', 'M', 'N'}) --> frozenset({'O', 'E'}) conf: 1.0\n",
      "frozenset({'E', 'K', 'M'}) --> frozenset({'O', 'N'}) conf: 0.5\n",
      "frozenset({'O', 'K', 'M'}) --> frozenset({'E', 'N'}) conf: 1.0\n",
      "frozenset({'O', 'E'}) --> frozenset({'K', 'M', 'N'}) conf: 0.5\n",
      "frozenset({'E', 'N'}) --> frozenset({'O', 'K', 'M'}) conf: 0.5\n",
      "frozenset({'M', 'N'}) --> frozenset({'O', 'K', 'E'}) conf: 1.0\n",
      "frozenset({'E', 'M'}) --> frozenset({'O', 'K', 'N'}) conf: 0.5\n",
      "frozenset({'O', 'N'}) --> frozenset({'E', 'K', 'M'}) conf: 0.5\n",
      "frozenset({'O', 'M'}) --> frozenset({'E', 'K', 'N'}) conf: 1.0\n",
      "frozenset({'K', 'N'}) --> frozenset({'O', 'M', 'E'}) conf: 0.5\n",
      "frozenset({'O', 'K'}) --> frozenset({'E', 'M', 'N'}) conf: 0.5\n",
      "frozenset({'N'}) --> frozenset({'O', 'E', 'K', 'M'}) conf: 0.5\n",
      "frozenset({'O'}) --> frozenset({'E', 'K', 'N', 'M'}) conf: 0.5\n",
      "frozenset({'E', 'Y', 'N'}) --> frozenset({'K', 'M'}) conf: 0.5\n",
      "frozenset({'Y', 'M', 'N'}) --> frozenset({'E', 'K'}) conf: 1.0\n",
      "frozenset({'E', 'M', 'N'}) --> frozenset({'K', 'Y'}) conf: 1.0\n",
      "frozenset({'E', 'Y', 'M'}) --> frozenset({'K', 'N'}) conf: 1.0\n",
      "frozenset({'K', 'Y', 'N'}) --> frozenset({'E', 'M'}) conf: 0.5\n",
      "frozenset({'E', 'K', 'N'}) --> frozenset({'Y', 'M'}) conf: 0.5\n",
      "frozenset({'E', 'K', 'Y'}) --> frozenset({'M', 'N'}) conf: 0.5\n",
      "frozenset({'K', 'M', 'N'}) --> frozenset({'E', 'Y'}) conf: 1.0\n",
      "frozenset({'K', 'M', 'Y'}) --> frozenset({'E', 'N'}) conf: 0.5\n",
      "frozenset({'E', 'K', 'M'}) --> frozenset({'Y', 'N'}) conf: 0.5\n",
      "frozenset({'E', 'N'}) --> frozenset({'K', 'M', 'Y'}) conf: 0.5\n",
      "frozenset({'E', 'Y'}) --> frozenset({'K', 'M', 'N'}) conf: 0.5\n",
      "frozenset({'Y', 'N'}) --> frozenset({'E', 'K', 'M'}) conf: 0.5\n",
      "frozenset({'M', 'N'}) --> frozenset({'E', 'K', 'Y'}) conf: 1.0\n",
      "frozenset({'Y', 'M'}) --> frozenset({'E', 'K', 'N'}) conf: 0.5\n",
      "frozenset({'E', 'M'}) --> frozenset({'K', 'Y', 'N'}) conf: 0.5\n",
      "frozenset({'K', 'N'}) --> frozenset({'E', 'Y', 'M'}) conf: 0.5\n",
      "frozenset({'N'}) --> frozenset({'E', 'K', 'Y', 'M'}) conf: 0.5\n",
      "frozenset({'E', 'Y', 'D', 'N'}) --> frozenset({'O', 'K'}) conf: 1.0\n",
      "frozenset({'O', 'Y', 'D', 'N'}) --> frozenset({'E', 'K'}) conf: 1.0\n",
      "frozenset({'O', 'Y', 'N', 'E'}) --> frozenset({'K', 'D'}) conf: 0.5\n",
      "frozenset({'O', 'D', 'N', 'E'}) --> frozenset({'K', 'Y'}) conf: 1.0\n",
      "frozenset({'O', 'Y', 'D', 'E'}) --> frozenset({'K', 'N'}) conf: 1.0\n",
      "frozenset({'K', 'D', 'Y', 'N'}) --> frozenset({'O', 'E'}) conf: 1.0\n",
      "frozenset({'E', 'K', 'Y', 'N'}) --> frozenset({'O', 'D'}) conf: 0.5\n",
      "frozenset({'E', 'K', 'D', 'N'}) --> frozenset({'O', 'Y'}) conf: 1.0\n",
      "frozenset({'E', 'K', 'D', 'Y'}) --> frozenset({'O', 'N'}) conf: 1.0\n",
      "frozenset({'O', 'K', 'Y', 'N'}) --> frozenset({'E', 'D'}) conf: 0.5\n",
      "frozenset({'O', 'K', 'D', 'N'}) --> frozenset({'E', 'Y'}) conf: 1.0\n",
      "frozenset({'O', 'K', 'D', 'Y'}) --> frozenset({'E', 'N'}) conf: 1.0\n",
      "frozenset({'O', 'K', 'N', 'E'}) --> frozenset({'Y', 'D'}) conf: 0.5\n",
      "frozenset({'O', 'K', 'Y', 'E'}) --> frozenset({'D', 'N'}) conf: 0.5\n",
      "frozenset({'O', 'K', 'D', 'E'}) --> frozenset({'Y', 'N'}) conf: 1.0\n",
      "frozenset({'Y', 'D', 'N'}) --> frozenset({'O', 'K', 'E'}) conf: 1.0\n",
      "frozenset({'E', 'Y', 'N'}) --> frozenset({'O', 'K', 'D'}) conf: 0.5\n",
      "frozenset({'E', 'D', 'N'}) --> frozenset({'O', 'K', 'Y'}) conf: 1.0\n",
      "frozenset({'E', 'Y', 'D'}) --> frozenset({'O', 'K', 'N'}) conf: 1.0\n",
      "frozenset({'O', 'Y', 'N'}) --> frozenset({'E', 'K', 'D'}) conf: 0.5\n",
      "frozenset({'O', 'D', 'N'}) --> frozenset({'E', 'K', 'Y'}) conf: 1.0\n",
      "frozenset({'O', 'Y', 'D'}) --> frozenset({'E', 'K', 'N'}) conf: 1.0\n",
      "frozenset({'O', 'N', 'E'}) --> frozenset({'K', 'D', 'Y'}) conf: 0.5\n",
      "frozenset({'O', 'Y', 'E'}) --> frozenset({'K', 'D', 'N'}) conf: 0.5\n",
      "frozenset({'O', 'D', 'E'}) --> frozenset({'K', 'Y', 'N'}) conf: 1.0\n",
      "frozenset({'K', 'Y', 'N'}) --> frozenset({'O', 'D', 'E'}) conf: 0.5\n",
      "frozenset({'K', 'D', 'N'}) --> frozenset({'O', 'Y', 'E'}) conf: 1.0\n",
      "frozenset({'K', 'D', 'Y'}) --> frozenset({'O', 'N', 'E'}) conf: 1.0\n",
      "frozenset({'E', 'K', 'N'}) --> frozenset({'O', 'Y', 'D'}) conf: 0.5\n",
      "frozenset({'E', 'K', 'Y'}) --> frozenset({'O', 'D', 'N'}) conf: 0.5\n",
      "frozenset({'E', 'K', 'D'}) --> frozenset({'O', 'Y', 'N'}) conf: 1.0\n",
      "frozenset({'O', 'K', 'N'}) --> frozenset({'E', 'Y', 'D'}) conf: 0.5\n",
      "frozenset({'O', 'K', 'Y'}) --> frozenset({'E', 'D', 'N'}) conf: 0.5\n",
      "frozenset({'O', 'K', 'D'}) --> frozenset({'E', 'Y', 'N'}) conf: 1.0\n",
      "frozenset({'O', 'K', 'E'}) --> frozenset({'Y', 'D', 'N'}) conf: 0.5\n",
      "frozenset({'Y', 'N'}) --> frozenset({'O', 'E', 'K', 'D'}) conf: 0.5\n",
      "frozenset({'D', 'N'}) --> frozenset({'O', 'E', 'K', 'Y'}) conf: 1.0\n",
      "frozenset({'Y', 'D'}) --> frozenset({'O', 'E', 'K', 'N'}) conf: 1.0\n",
      "frozenset({'E', 'N'}) --> frozenset({'O', 'K', 'D', 'Y'}) conf: 0.5\n",
      "frozenset({'E', 'Y'}) --> frozenset({'O', 'K', 'D', 'N'}) conf: 0.5\n"
     ]
    },
    {
     "name": "stdout",
     "output_type": "stream",
     "text": [
      "frozenset({'E', 'D'}) --> frozenset({'O', 'K', 'Y', 'N'}) conf: 1.0\n",
      "frozenset({'O', 'N'}) --> frozenset({'E', 'K', 'D', 'Y'}) conf: 0.5\n",
      "frozenset({'O', 'Y'}) --> frozenset({'E', 'K', 'D', 'N'}) conf: 0.5\n",
      "frozenset({'O', 'D'}) --> frozenset({'E', 'K', 'Y', 'N'}) conf: 1.0\n",
      "frozenset({'O', 'E'}) --> frozenset({'K', 'D', 'Y', 'N'}) conf: 0.5\n",
      "frozenset({'K', 'N'}) --> frozenset({'O', 'E', 'Y', 'D'}) conf: 0.5\n",
      "frozenset({'K', 'D'}) --> frozenset({'O', 'E', 'Y', 'N'}) conf: 1.0\n",
      "frozenset({'O', 'K'}) --> frozenset({'E', 'Y', 'D', 'N'}) conf: 0.5\n",
      "frozenset({'N'}) --> frozenset({'K', 'O', 'E', 'D', 'Y'}) conf: 0.5\n",
      "frozenset({'D'}) --> frozenset({'K', 'O', 'E', 'Y', 'N'}) conf: 1.0\n",
      "frozenset({'O'}) --> frozenset({'K', 'E', 'D', 'Y', 'N'}) conf: 0.5\n",
      "frozenset({'O', 'Y', 'N', 'E'}) --> frozenset({'K', 'M'}) conf: 0.5\n",
      "frozenset({'E', 'Y', 'M', 'N'}) --> frozenset({'O', 'K'}) conf: 1.0\n",
      "frozenset({'O', 'Y', 'M', 'N'}) --> frozenset({'E', 'K'}) conf: 1.0\n",
      "frozenset({'O', 'M', 'N', 'E'}) --> frozenset({'K', 'Y'}) conf: 1.0\n",
      "frozenset({'O', 'Y', 'M', 'E'}) --> frozenset({'K', 'N'}) conf: 1.0\n",
      "frozenset({'E', 'K', 'Y', 'N'}) --> frozenset({'O', 'M'}) conf: 0.5\n",
      "frozenset({'O', 'K', 'Y', 'N'}) --> frozenset({'E', 'M'}) conf: 0.5\n",
      "frozenset({'O', 'K', 'N', 'E'}) --> frozenset({'Y', 'M'}) conf: 0.5\n",
      "frozenset({'O', 'K', 'Y', 'E'}) --> frozenset({'M', 'N'}) conf: 0.5\n",
      "frozenset({'K', 'M', 'Y', 'N'}) --> frozenset({'O', 'E'}) conf: 1.0\n",
      "frozenset({'E', 'K', 'M', 'N'}) --> frozenset({'O', 'Y'}) conf: 1.0\n",
      "frozenset({'E', 'K', 'M', 'Y'}) --> frozenset({'O', 'N'}) conf: 1.0\n",
      "frozenset({'O', 'K', 'M', 'N'}) --> frozenset({'E', 'Y'}) conf: 1.0\n",
      "frozenset({'O', 'K', 'M', 'Y'}) --> frozenset({'E', 'N'}) conf: 1.0\n",
      "frozenset({'O', 'K', 'M', 'E'}) --> frozenset({'Y', 'N'}) conf: 1.0\n",
      "frozenset({'O', 'N', 'E'}) --> frozenset({'K', 'M', 'Y'}) conf: 0.5\n",
      "frozenset({'O', 'Y', 'E'}) --> frozenset({'K', 'M', 'N'}) conf: 0.5\n",
      "frozenset({'E', 'Y', 'N'}) --> frozenset({'O', 'K', 'M'}) conf: 0.5\n",
      "frozenset({'Y', 'M', 'N'}) --> frozenset({'O', 'K', 'E'}) conf: 1.0\n",
      "frozenset({'E', 'M', 'N'}) --> frozenset({'O', 'K', 'Y'}) conf: 1.0\n",
      "frozenset({'E', 'Y', 'M'}) --> frozenset({'O', 'K', 'N'}) conf: 1.0\n",
      "frozenset({'O', 'Y', 'N'}) --> frozenset({'E', 'K', 'M'}) conf: 0.5\n",
      "frozenset({'O', 'M', 'N'}) --> frozenset({'E', 'K', 'Y'}) conf: 1.0\n",
      "frozenset({'O', 'Y', 'M'}) --> frozenset({'E', 'K', 'N'}) conf: 1.0\n",
      "frozenset({'O', 'M', 'E'}) --> frozenset({'K', 'Y', 'N'}) conf: 1.0\n",
      "frozenset({'K', 'Y', 'N'}) --> frozenset({'O', 'M', 'E'}) conf: 0.5\n",
      "frozenset({'E', 'K', 'N'}) --> frozenset({'O', 'Y', 'M'}) conf: 0.5\n",
      "frozenset({'E', 'K', 'Y'}) --> frozenset({'O', 'M', 'N'}) conf: 0.5\n",
      "frozenset({'O', 'K', 'N'}) --> frozenset({'E', 'Y', 'M'}) conf: 0.5\n",
      "frozenset({'O', 'K', 'Y'}) --> frozenset({'E', 'M', 'N'}) conf: 0.5\n",
      "frozenset({'O', 'K', 'E'}) --> frozenset({'Y', 'M', 'N'}) conf: 0.5\n",
      "frozenset({'K', 'M', 'N'}) --> frozenset({'O', 'Y', 'E'}) conf: 1.0\n",
      "frozenset({'K', 'M', 'Y'}) --> frozenset({'O', 'N', 'E'}) conf: 0.5\n",
      "frozenset({'E', 'K', 'M'}) --> frozenset({'O', 'Y', 'N'}) conf: 0.5\n",
      "frozenset({'O', 'K', 'M'}) --> frozenset({'E', 'Y', 'N'}) conf: 1.0\n",
      "frozenset({'O', 'E'}) --> frozenset({'K', 'Y', 'N', 'M'}) conf: 0.5\n",
      "frozenset({'Y', 'N'}) --> frozenset({'O', 'E', 'K', 'M'}) conf: 0.5\n",
      "frozenset({'E', 'N'}) --> frozenset({'O', 'K', 'Y', 'M'}) conf: 0.5\n",
      "frozenset({'E', 'Y'}) --> frozenset({'O', 'K', 'N', 'M'}) conf: 0.5\n",
      "frozenset({'M', 'N'}) --> frozenset({'O', 'E', 'K', 'Y'}) conf: 1.0\n",
      "frozenset({'Y', 'M'}) --> frozenset({'O', 'E', 'K', 'N'}) conf: 0.5\n",
      "frozenset({'E', 'M'}) --> frozenset({'O', 'K', 'Y', 'N'}) conf: 0.5\n",
      "frozenset({'O', 'N'}) --> frozenset({'E', 'K', 'Y', 'M'}) conf: 0.5\n",
      "frozenset({'O', 'Y'}) --> frozenset({'E', 'K', 'N', 'M'}) conf: 0.5\n",
      "frozenset({'O', 'M'}) --> frozenset({'E', 'K', 'Y', 'N'}) conf: 1.0\n",
      "frozenset({'K', 'N'}) --> frozenset({'O', 'E', 'Y', 'M'}) conf: 0.5\n",
      "frozenset({'O', 'K'}) --> frozenset({'E', 'Y', 'N', 'M'}) conf: 0.5\n",
      "frozenset({'N'}) --> frozenset({'K', 'M', 'O', 'E', 'Y'}) conf: 0.5\n",
      "frozenset({'O'}) --> frozenset({'K', 'M', 'E', 'Y', 'N'}) conf: 0.5\n"
     ]
    }
   ],
   "source": [
    "rules= generateRules(L,suppData, minConf=0.5)"
   ]
  },
  {
   "cell_type": "code",
   "execution_count": null,
   "metadata": {},
   "outputs": [],
   "source": []
  }
 ],
 "metadata": {
  "kernelspec": {
   "display_name": "Python 3",
   "language": "python",
   "name": "python3"
  },
  "language_info": {
   "codemirror_mode": {
    "name": "ipython",
    "version": 3
   },
   "file_extension": ".py",
   "mimetype": "text/x-python",
   "name": "python",
   "nbconvert_exporter": "python",
   "pygments_lexer": "ipython3",
   "version": "3.8.5"
  }
 },
 "nbformat": 4,
 "nbformat_minor": 4
}
